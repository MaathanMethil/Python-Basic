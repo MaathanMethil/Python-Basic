{
  "nbformat": 4,
  "nbformat_minor": 0,
  "metadata": {
    "colab": {
      "provenance": [],
      "collapsed_sections": [
        "cIAqU8JjxA1I",
        "TKLyuIbgwOBa"
      ],
      "authorship_tag": "ABX9TyN4p8/ZYKhmJ91hmcLzLw4r",
      "include_colab_link": true
    },
    "kernelspec": {
      "name": "python3",
      "display_name": "Python 3"
    },
    "language_info": {
      "name": "python"
    }
  },
  "cells": [
    {
      "cell_type": "markdown",
      "metadata": {
        "id": "view-in-github",
        "colab_type": "text"
      },
      "source": [
        "<a href=\"https://colab.research.google.com/github/MaathanMethil/Python-Basic/blob/main/TASK.ipynb\" target=\"_parent\"><img src=\"https://colab.research.google.com/assets/colab-badge.svg\" alt=\"Open In Colab\"/></a>"
      ]
    },
    {
      "cell_type": "markdown",
      "source": [
        "### TASK 01"
      ],
      "metadata": {
        "id": "cIAqU8JjxA1I"
      }
    },
    {
      "cell_type": "markdown",
      "source": [
        "1.Ceate list with groceries details:"
      ],
      "metadata": {
        "id": "3DZ_hwSEuA2B"
      }
    },
    {
      "cell_type": "code",
      "execution_count": 292,
      "metadata": {
        "colab": {
          "base_uri": "https://localhost:8080/"
        },
        "id": "zMeC2K_Kt9Sn",
        "outputId": "7a34a7a4-c8b6-4981-f576-d0894ee3e5e2"
      },
      "outputs": [
        {
          "output_type": "stream",
          "name": "stdout",
          "text": [
            "['Eggs', 'Oranges', 'bread', 'chips', 'cookies', 'pepsi', 'limca']\n",
            "['Eggs', 'Oranges', 'bread', 'chips', 'cookies', 'pepsi', 'limca', 'apple', 'banana', 'grapes', 'melons']\n",
            "['bread', 'chips', 'cookies', 'pepsi', 'limca']\n",
            "{'Oranges', 'apple', 'chips', 'cookies', 'bread', 'Eggs', 'banana', 'grapes', 'pepsi', 'melons'}\n"
          ]
        }
      ],
      "source": [
        "#\n",
        "gro = [\"Eggs\",\"Oranges\",\"bread\",\"chips\",\"cookies\",\"pepsi\"]\n",
        "gro.append(\"limca\")\n",
        "print(gro)\n",
        "#\n",
        "e = [\"apple\",\"banana\",\"grapes\",\"melons\"]\n",
        "gro.extend(e)\n",
        "print(gro)\n",
        "#\n",
        "print(gro[2:7])\n",
        "# -------------------------------------------------------------\n",
        "ee = {\"apple\",\"banana\",\"grapes\",\"melons\"}\n",
        "gros = {\"Eggs\",\"Oranges\",\"bread\",\"chips\",\"cookies\",\"pepsi\"}\n",
        "gros.add(\"apple\")\n",
        "#gros.append(\"ball\") || Append is a List methods\n",
        "gros.update(ee)\n",
        "print(gros)\n",
        "# -------------------------------------------------------------\n",
        "#\n"
      ]
    },
    {
      "cell_type": "code",
      "source": [],
      "metadata": {
        "id": "mOpfLVmeubUY"
      },
      "execution_count": 292,
      "outputs": []
    },
    {
      "cell_type": "markdown",
      "source": [
        "2.Conditional Statement, Pythagoras Theorem.| AC^2 = AB^2 + BC^2.|\n",
        "A and C > AC^2 print\n",
        "B or C > AB^2 print\n",
        "C > print(C)"
      ],
      "metadata": {
        "id": "W9ZxRC02ubrN"
      }
    },
    {
      "cell_type": "code",
      "source": [
        "# 1\n",
        "#c2=a2+b2 | a^2 + b^2 = c^2 | ac2 = ab2 + bc2 | \n",
        "a,b,c = map(int,input().split())\n",
        "ab = (a * b)**2\n",
        "bc = (c * b)**2\n",
        "ac = (a * c)**2\n",
        "#\n",
        "print(ab,bc,ac) # \n",
        "if a and c > ac:\n",
        "  print(ac)\n",
        "elif b or c > ab:\n",
        "  print(ab)\n",
        "elif c > ab:\n",
        "  print(c)\n",
        "else:\n",
        "  print(\"no\")\n",
        "#"
      ],
      "metadata": {
        "colab": {
          "base_uri": "https://localhost:8080/"
        },
        "id": "U3ufiT07vs5F",
        "outputId": "04b716f7-714c-4ae6-b304-d9af99c6ff26"
      },
      "execution_count": 293,
      "outputs": [
        {
          "output_type": "stream",
          "name": "stdout",
          "text": [
            "5 6 9\n",
            "900 2916 2025\n",
            "900\n"
          ]
        }
      ]
    },
    {
      "cell_type": "code",
      "source": [
        "# 2\n",
        "# a^2 + b^2 = c^2\n",
        "a,b,c = map(int,input().split())\n",
        "#\n",
        "if (c*c) > (a*a) + (b*b):\n",
        "  print(c*c)\n",
        "else:\n",
        "  print(\"no\")"
      ],
      "metadata": {
        "colab": {
          "base_uri": "https://localhost:8080/"
        },
        "id": "t0JZjrb_vs-G",
        "outputId": "5bd3666b-9788-4ad1-f897-1fb6c802297e"
      },
      "execution_count": 294,
      "outputs": [
        {
          "output_type": "stream",
          "name": "stdout",
          "text": [
            "5 6 9\n",
            "81\n"
          ]
        }
      ]
    },
    {
      "cell_type": "markdown",
      "source": [
        "3.Looping Prime Numbers 100, print even or odd."
      ],
      "metadata": {
        "id": "Wti7NQT1vxj9"
      }
    },
    {
      "cell_type": "code",
      "source": [
        "# 1\n",
        "# Looping Prime Numbers 100\n",
        "for i in range(2,101): # 2,3,4,5,6,7,8,9,10,......100\n",
        "#\n",
        "    for j in range(2,101):\n",
        "        if i%j == 0:\n",
        "            break      # if == 0, exit for loop.\n",
        "    if i == j:\n",
        "        print(i,end=\",\")\n",
        "#\n"
      ],
      "metadata": {
        "colab": {
          "base_uri": "https://localhost:8080/"
        },
        "id": "jNgusWO2wCGy",
        "outputId": "742e761f-bcca-4ef9-d242-65c2c07f4a9a"
      },
      "execution_count": 295,
      "outputs": [
        {
          "output_type": "stream",
          "name": "stdout",
          "text": [
            "2,3,5,7,11,13,17,19,23,29,31,37,41,43,47,53,59,61,67,71,73,79,83,89,97,"
          ]
        }
      ]
    },
    {
      "cell_type": "code",
      "source": [
        "# 2\n",
        "# Print Even or Odd.\n",
        "ed = []\n",
        "dd = []\n",
        "for i in range(2,101): # 2,3,4,5,6,7,8,9,10,......100\n",
        "#\n",
        "  for j in range(2,101):\n",
        "      if i%j == 0:\n",
        "        break      # if == 0, exit.\n",
        "  if i == j:\n",
        "    ed.append(j)\n",
        "#\n",
        "for i in ed:\n",
        "  if i%2 ==0:\n",
        "    #print(\"even\")\n",
        "    dd.append(\"even\")\n",
        "  else:\n",
        "    #print(\"odd\") \n",
        "    dd.append(\"odd\")\n",
        "#\n",
        "print(*ed)\n",
        "print(*dd)"
      ],
      "metadata": {
        "colab": {
          "base_uri": "https://localhost:8080/"
        },
        "id": "32yJrskKsLBz",
        "outputId": "5d76d821-f3a7-4ed8-c152-958191e563b6"
      },
      "execution_count": 296,
      "outputs": [
        {
          "output_type": "stream",
          "name": "stdout",
          "text": [
            "2 3 5 7 11 13 17 19 23 29 31 37 41 43 47 53 59 61 67 71 73 79 83 89 97\n",
            "even odd odd odd odd odd odd odd odd odd odd odd odd odd odd odd odd odd odd odd odd odd odd odd odd\n"
          ]
        }
      ]
    },
    {
      "cell_type": "markdown",
      "source": [
        "4.Prime Numbers via List Comprehension"
      ],
      "metadata": {
        "id": "c1SNxbhDwCcJ"
      }
    },
    {
      "cell_type": "code",
      "source": [
        "# 1\n",
        "# Prime Numbers via List Comprehension\n",
        "for i in range(2,101):\n",
        "    p = all(i % j != 0 for j in range(2, i))\n",
        "    if p:\n",
        "     print(i, end=\",\")\n",
        "#\n",
        "''' \n",
        "#Prime Numbers via List Comprehension\n",
        "prime = [i for i in range(2, 101) if all(i % j != 0 for j in range(2, i))]\n",
        "#\n",
        "print(prime, sep=\",\")\n",
        "# for i in range(2, 101)\n",
        "# if all(i % j != 0 for j in range(2, i)\n",
        "''' "
      ],
      "metadata": {
        "colab": {
          "base_uri": "https://localhost:8080/",
          "height": 53
        },
        "id": "-SyyM36KyUy7",
        "outputId": "446c68ae-6d26-43da-a010-9703cdfd906f"
      },
      "execution_count": 297,
      "outputs": [
        {
          "output_type": "stream",
          "name": "stdout",
          "text": [
            "2,3,5,7,11,13,17,19,23,29,31,37,41,43,47,53,59,61,67,71,73,79,83,89,97,"
          ]
        },
        {
          "output_type": "execute_result",
          "data": {
            "text/plain": [
              "' \\n#Prime Numbers via List Comprehension\\nprime = [i for i in range(2, 101) if all(i % j != 0 for j in range(2, i))]\\n#\\nprint(prime, sep=\",\")\\n# for i in range(2, 101)\\n# if all(i % j != 0 for j in range(2, i)\\n'"
            ],
            "application/vnd.google.colaboratory.intrinsic+json": {
              "type": "string"
            }
          },
          "metadata": {},
          "execution_count": 297
        }
      ]
    },
    {
      "cell_type": "code",
      "source": [
        "# 2\n",
        "prime = [i for i in range(2, 101) if all(i % j != 0 for j in range(2, i))]\n",
        "print(prime)\n",
        "#\n",
        "for i in range(2, 101)  # i is passed to next Iteration range(2, i) || i = 2\n",
        "\n",
        "if all((i % j != 0) for j in range(2, i)) # all returns True or False -> all(i % j != 0).\n",
        "\n",
        "#\n",
        "prime1 = [i for i in range(2, 101) # 2,3,4,5,6,7,8,9,10,.......100\n",
        "          # i = 2\n",
        "                                  if all((i % j != 0) for j in range(2, i))] # j = 2 \n",
        "                            #output = 2 == True-> pass to i | if False - NO Print - Increment. \n",
        "print(prime1)"
      ],
      "metadata": {
        "id": "gwkTLB5g51i_"
      },
      "execution_count": null,
      "outputs": []
    },
    {
      "cell_type": "code",
      "source": [
        "# Syntax : \n",
        "class ClassName:\n",
        "    # Class level attributes\n",
        "    attribute1 = value1\n",
        "    attribute2 = value2\n",
        "\n",
        "    # Class level methods\n",
        "    def method1(self, arg1, arg2):\n",
        "        # Method body\n",
        "        pass\n",
        "\n",
        "    def method2(self, arg3):\n",
        "        # Method body\n",
        "        pass\n",
        "#"
      ],
      "metadata": {
        "id": "jvGXW5C_wm31"
      },
      "execution_count": null,
      "outputs": []
    },
    {
      "cell_type": "markdown",
      "source": [
        "5.ab = log(x) + sin(y) + tan(z) - using function."
      ],
      "metadata": {
        "id": "JuKABThnwPbD"
      }
    },
    {
      "cell_type": "code",
      "source": [
        "def logg(x, y, z):\n",
        "        ab = math.log(a) + math.sin(b) + math.tan(c)\n",
        "        print(ab)\n",
        "logg(5,8,9)"
      ],
      "metadata": {
        "colab": {
          "base_uri": "https://localhost:8080/"
        },
        "id": "haA4odI3XbjH",
        "outputId": "9174b7a8-cbc1-4c04-9b60-7a8289c743da"
      },
      "execution_count": 299,
      "outputs": [
        {
          "output_type": "stream",
          "name": "stdout",
          "text": [
            "0.8777067547933646\n"
          ]
        }
      ]
    },
    {
      "cell_type": "markdown",
      "source": [
        "6,7,8,9.Class Object + Functions."
      ],
      "metadata": {
        "id": "9QQGl6FtXjD2"
      }
    },
    {
      "cell_type": "code",
      "source": [
        "#\n",
        "import math\n",
        "#\n",
        "class many_opt():\n",
        "    def logg(self,x, y, z):\n",
        "        ab = math.log(a) + math.sin(b) + math.tan(c)\n",
        "        print(ab)\n",
        "\n",
        "    def tann(self,x, y, z):\n",
        "        tanx = math.tan(y)\n",
        "        tanx = math.sin(x) / math.cos(z)\n",
        "        print(tanx)\n",
        "\n",
        "    def divide(self,x):\n",
        "        di = 1 / (1 - x ** 2)\n",
        "        print(di)\n",
        "\n",
        "    def distance(self, x1, x2, y1, y2):\n",
        "        sq = math.sqrt((x1 - x2) ** 2 + (y1 - y2) ** 2)\n",
        "        print(sq)\n",
        "\n",
        "# Instantiate the object\n",
        "mobj = many_opt()\n",
        "\n",
        "mobj.logg(5,8,9)\n",
        "mobj.tann(5,8,9)\n",
        "mobj.divide(15)\n",
        "mobj.distance(5,4,6,9)"
      ],
      "metadata": {
        "colab": {
          "base_uri": "https://localhost:8080/"
        },
        "id": "VddAcsMmSshs",
        "outputId": "6e1a5c5d-4780-4d3c-83b2-3aa53666934b"
      },
      "execution_count": 300,
      "outputs": [
        {
          "output_type": "stream",
          "name": "stdout",
          "text": [
            "0.8777067547933646\n",
            "1.0524557407187853\n",
            "-0.004464285714285714\n",
            "3.1622776601683795\n"
          ]
        }
      ]
    },
    {
      "cell_type": "markdown",
      "source": [
        "10.Lambda b^2 - 4ac / 2a"
      ],
      "metadata": {
        "id": "wUEt0dJSXJhz"
      }
    },
    {
      "cell_type": "code",
      "source": [
        "# X = lambda x, y: x + y\n",
        "a = 5\n",
        "b = 8\n",
        "c = 16\n",
        "#\n",
        "x = lambda a,b,c : b**2 - 4*(a*c)/ 2*a\n",
        "y = x(5,8,16)\n",
        "print(y)"
      ],
      "metadata": {
        "colab": {
          "base_uri": "https://localhost:8080/"
        },
        "id": "IroxQVbqXIl4",
        "outputId": "46bf2041-f3eb-436d-c8b9-dc5531d1bb8c"
      },
      "execution_count": 301,
      "outputs": [
        {
          "output_type": "stream",
          "name": "stdout",
          "text": [
            "-736.0\n"
          ]
        }
      ]
    },
    {
      "cell_type": "code",
      "source": [
        "## Syntax\n",
        "add = lambda x, y: x + y  # 2 values x,y\n",
        "result = add(2, 3)\n",
        "print(result)  # Output: 5\n",
        "##"
      ],
      "metadata": {
        "id": "rhOda_yfaLk-"
      },
      "execution_count": null,
      "outputs": []
    },
    {
      "cell_type": "markdown",
      "source": [
        "10.String Fetch Phone Number."
      ],
      "metadata": {
        "id": "r2tl8UiJYF0T"
      }
    },
    {
      "cell_type": "code",
      "source": [
        "# 1\n",
        "strings = \"Hello World - fetch my phone number: 9444446666 in a String.\"\n",
        "a = [\"1\",\"2\",\"3\",\"4\",\"5\",\"6\",\"7\",\"8\",\"9\"]\n",
        "b = []\n",
        "for i in strings:\n",
        "  if i in a:\n",
        "    b.append(i)\n",
        "#\n",
        "print(\"\".join(b))\n",
        "#"
      ],
      "metadata": {
        "colab": {
          "base_uri": "https://localhost:8080/"
        },
        "id": "wuDFRN7bdSpj",
        "outputId": "7afef06e-36f8-46ab-eda3-32939777444f"
      },
      "execution_count": 302,
      "outputs": [
        {
          "output_type": "stream",
          "name": "stdout",
          "text": [
            "9444446666\n"
          ]
        }
      ]
    },
    {
      "cell_type": "code",
      "source": [
        "# 2\n",
        "import re\n",
        "strings = \"Hello World - fetch my phone number: +91 944 4446666 in a String.\"\n",
        "pattern = r\"\\+?\\d{2}[-.\\s]?\\d{3}[-.\\s]?\\d{7}\"\n",
        "matches = re.findall(pattern, strings)\n",
        "#\n",
        "print(*matches)\n",
        "'''\n",
        "for i in matches:\n",
        "    print(i)\n",
        "#\n",
        "'''"
      ],
      "metadata": {
        "colab": {
          "base_uri": "https://localhost:8080/",
          "height": 53
        },
        "id": "7xHAKQ-FkG4u",
        "outputId": "5449d046-b1a9-4085-fab2-9bb67b1230f1"
      },
      "execution_count": 303,
      "outputs": [
        {
          "output_type": "stream",
          "name": "stdout",
          "text": [
            "+91 944 4446666\n"
          ]
        },
        {
          "output_type": "execute_result",
          "data": {
            "text/plain": [
              "'\\nfor i in matches:\\n    print(i)\\n#\\n'"
            ],
            "application/vnd.google.colaboratory.intrinsic+json": {
              "type": "string"
            }
          },
          "metadata": {},
          "execution_count": 303
        }
      ]
    },
    {
      "cell_type": "code",
      "source": [
        "#\n",
        "import re\n",
        "text = \"Please contact us at +1-123-456-7890 or 123-456-7890 for assistance.\"\n",
        "# Regular expression pattern to match phone numbers\n",
        "pattern = r\"\\+?\\d{1,3}[-.\\s]?\\d{3}[-.\\s]?\\d{3}[-.\\s]?\\d{4}\"\n",
        "#\n",
        "# \"\"\"  +1-123-456-7890  \"\"\"\n",
        "'''\n",
        "+     # \\+? \n",
        "1     # \\d{1,3} - This matches one to three digits. The \\d is a shorthand character class that matches any digit (0-9), and the {1,3} quantifier specifies the minimum and maximum number of occurrences of the preceding pattern, which is one to three digits in this case.\n",
        "-     # [-.\\s]?\n",
        "123   # \\d{3}\n",
        "-     # [-.\\s]?  \n",
        "456   # \\d{3}   \n",
        "-     # [-.\\s]?    \n",
        "7890  # \\d{4}\n",
        "'''\n",
        "# \n",
        "\n",
        "# Find all matches of the pattern in the text\n",
        "matches = re.findall(pattern, text)\n",
        "\n",
        "# Print the extracted phone numbers\n",
        "for match in matches:\n",
        "    print(match)\n"
      ],
      "metadata": {
        "colab": {
          "base_uri": "https://localhost:8080/"
        },
        "id": "fW1NdmuKdGio",
        "outputId": "c40386dd-7e92-48d3-983e-6dbd56eaa3d4"
      },
      "execution_count": 304,
      "outputs": [
        {
          "output_type": "stream",
          "name": "stdout",
          "text": [
            "+1-123-456-7890\n"
          ]
        }
      ]
    },
    {
      "cell_type": "markdown",
      "source": [
        "### TASK 02"
      ],
      "metadata": {
        "id": "TKLyuIbgwOBa"
      }
    },
    {
      "cell_type": "markdown",
      "source": [],
      "metadata": {
        "id": "_WWruFF0U7AV"
      }
    },
    {
      "cell_type": "code",
      "source": [],
      "metadata": {
        "id": "2fJcZ2LeU5LN"
      },
      "execution_count": null,
      "outputs": []
    },
    {
      "cell_type": "code",
      "source": [],
      "metadata": {
        "id": "FN5V-98MU6tV"
      },
      "execution_count": null,
      "outputs": []
    }
  ]
}