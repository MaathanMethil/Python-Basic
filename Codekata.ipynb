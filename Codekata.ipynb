{
  "nbformat": 4,
  "nbformat_minor": 0,
  "metadata": {
    "colab": {
      "provenance": [],
      "authorship_tag": "ABX9TyN3PNxKbw//T0p8nNg6bxPS",
      "include_colab_link": true
    },
    "kernelspec": {
      "name": "python3",
      "display_name": "Python 3"
    },
    "language_info": {
      "name": "python"
    }
  },
  "cells": [
    {
      "cell_type": "markdown",
      "metadata": {
        "id": "view-in-github",
        "colab_type": "text"
      },
      "source": [
        "<a href=\"https://colab.research.google.com/github/MaathanMethil/Python-Basic/blob/main/Codekata.ipynb\" target=\"_parent\"><img src=\"https://colab.research.google.com/assets/colab-badge.svg\" alt=\"Open In Colab\"/></a>"
      ]
    },
    {
      "cell_type": "code",
      "execution_count": null,
      "metadata": {
        "colab": {
          "base_uri": "https://localhost:8080/"
        },
        "id": "vxAdJuEhMlqH",
        "outputId": "6bf9c008-e172-4ccd-f6b9-f6467e4305ed"
      },
      "outputs": [
        {
          "output_type": "stream",
          "name": "stdout",
          "text": [
            "99999\n",
            "99998\n",
            "9999700002\n"
          ]
        }
      ],
      "source": [
        "n = int(input())\n",
        "m = int(input())\n",
        "#\n",
        "c = (n*m)\n",
        "print(c)"
      ]
    },
    {
      "cell_type": "code",
      "source": [
        "n = input()\n",
        "m = input()\n",
        "#\n",
        "c = int(n)*int(m)\n",
        "print(c)"
      ],
      "metadata": {
        "colab": {
          "base_uri": "https://localhost:8080/"
        },
        "id": "EnV8xLXZNUnN",
        "outputId": "7d8e16e1-ba4e-4552-ba6a-aadb9f1a0dda"
      },
      "execution_count": null,
      "outputs": [
        {
          "output_type": "stream",
          "name": "stdout",
          "text": [
            "99999\n",
            "99998\n",
            "9999700002\n"
          ]
        }
      ]
    },
    {
      "cell_type": "code",
      "source": [
        "n = int(input())\n",
        "m = int(input())\n",
        "#\n",
        "num = [n * m]\n",
        "print(num)"
      ],
      "metadata": {
        "colab": {
          "base_uri": "https://localhost:8080/"
        },
        "id": "YTq-iIJ7OT47",
        "outputId": "e8b2cec1-cca2-443b-f26c-afa9284ad1a4"
      },
      "execution_count": null,
      "outputs": [
        {
          "output_type": "stream",
          "name": "stdout",
          "text": [
            "999\n",
            "998\n",
            "[997002]\n"
          ]
        }
      ]
    },
    {
      "cell_type": "code",
      "source": [
        "a = [list(map(int, input().split()))]\n",
        "#num = [a[0] * a[1]]\n",
        "print(*a)\n",
        "print(a[0])"
      ],
      "metadata": {
        "colab": {
          "base_uri": "https://localhost:8080/"
        },
        "id": "HI9TH3v-RfcA",
        "outputId": "2f9548d9-764b-42fc-f5bc-7e63d8418fe2"
      },
      "execution_count": null,
      "outputs": [
        {
          "output_type": "stream",
          "name": "stdout",
          "text": [
            "9999 9998\n",
            "[9999, 9998]\n",
            "[9999, 9998]\n"
          ]
        }
      ]
    },
    {
      "cell_type": "code",
      "source": [
        "n = int(input())\n",
        "l = int(input())\n",
        "r = int(input())\n",
        "#\n",
        "if n > l and l < r:\n",
        "    print (\"yes\")\n",
        "else:\n",
        "    print(\"no\")\n",
        "    "
      ],
      "metadata": {
        "colab": {
          "base_uri": "https://localhost:8080/"
        },
        "id": "EDjFYh_2VkoL",
        "outputId": "0660a852-39d3-4dac-aa6c-08fa17b2b6dd"
      },
      "execution_count": null,
      "outputs": [
        {
          "output_type": "stream",
          "name": "stdout",
          "text": [
            "5\n",
            "8\n",
            "9\n",
            "no\n"
          ]
        }
      ]
    },
    {
      "cell_type": "code",
      "source": [
        "a = int(input())\n",
        "n = int(input())\n",
        "#\n",
        "print(a, n)\n",
        "\n",
        "i = 1\n",
        "while  i <= n:\n",
        "  print(n)\n",
        "  i += 1\n",
        "\n"
      ],
      "metadata": {
        "colab": {
          "base_uri": "https://localhost:8080/"
        },
        "id": "pGdpBn_kVxqh",
        "outputId": "07f91efa-ff14-44fc-ab4f-e961160c9b70"
      },
      "execution_count": null,
      "outputs": [
        {
          "output_type": "stream",
          "name": "stdout",
          "text": [
            "5\n",
            "3\n",
            "5 3\n",
            "3\n",
            "3\n",
            "3\n"
          ]
        }
      ]
    },
    {
      "cell_type": "code",
      "source": [
        "a = input()\n",
        "#print(a.strip())\n",
        "b = a.strip()\n",
        "print(len(b))"
      ],
      "metadata": {
        "colab": {
          "base_uri": "https://localhost:8080/"
        },
        "id": "9BX-E2r2eZUJ",
        "outputId": "cf6c5d3e-72bb-41a4-f2ec-d4d170567c56"
      },
      "execution_count": null,
      "outputs": [
        {
          "output_type": "stream",
          "name": "stdout",
          "text": [
            "Lorem Ipsum\n",
            "11\n"
          ]
        }
      ]
    },
    {
      "cell_type": "code",
      "source": [
        "a = input()\n",
        "#print(a.strip())\n",
        "b = a.replace(\" \",\"\")\n",
        "print(len(b))"
      ],
      "metadata": {
        "colab": {
          "base_uri": "https://localhost:8080/"
        },
        "id": "Vl-NPKtxS3xf",
        "outputId": "fba7e733-c435-4ddb-988a-db0dd561d045"
      },
      "execution_count": null,
      "outputs": [
        {
          "output_type": "stream",
          "name": "stdout",
          "text": [
            "Lorem Ipsum\n",
            "10\n"
          ]
        }
      ]
    },
    {
      "cell_type": "code",
      "source": [
        "a = list(input().split())\n",
        "#[5 4]\n",
        "#print(a)\n",
        "num = int(a[0])\n",
        "n = int(a[2])\n",
        "#print(n)\n",
        "\n",
        "i = 1\n",
        "while i <= n:\n",
        "  print(num)\n",
        "  i += 1\n"
      ],
      "metadata": {
        "colab": {
          "base_uri": "https://localhost:8080/",
          "height": 252
        },
        "id": "Syunx3GJk2YJ",
        "outputId": "d5b29d4c-0c2f-4aff-a29f-d09b31e19f24"
      },
      "execution_count": null,
      "outputs": [
        {
          "name": "stdout",
          "output_type": "stream",
          "text": [
            "5 4\n"
          ]
        },
        {
          "output_type": "error",
          "ename": "IndexError",
          "evalue": "ignored",
          "traceback": [
            "\u001b[0;31m---------------------------------------------------------------------------\u001b[0m",
            "\u001b[0;31mIndexError\u001b[0m                                Traceback (most recent call last)",
            "\u001b[0;32m<ipython-input-48-2afbe89c084a>\u001b[0m in \u001b[0;36m<module>\u001b[0;34m\u001b[0m\n\u001b[1;32m      3\u001b[0m \u001b[0;31m#print(a)\u001b[0m\u001b[0;34m\u001b[0m\u001b[0;34m\u001b[0m\u001b[0m\n\u001b[1;32m      4\u001b[0m \u001b[0mnum\u001b[0m \u001b[0;34m=\u001b[0m \u001b[0mint\u001b[0m\u001b[0;34m(\u001b[0m\u001b[0ma\u001b[0m\u001b[0;34m[\u001b[0m\u001b[0;36m0\u001b[0m\u001b[0;34m]\u001b[0m\u001b[0;34m)\u001b[0m\u001b[0;34m\u001b[0m\u001b[0;34m\u001b[0m\u001b[0m\n\u001b[0;32m----> 5\u001b[0;31m \u001b[0mn\u001b[0m \u001b[0;34m=\u001b[0m \u001b[0mint\u001b[0m\u001b[0;34m(\u001b[0m\u001b[0ma\u001b[0m\u001b[0;34m[\u001b[0m\u001b[0;36m2\u001b[0m\u001b[0;34m]\u001b[0m\u001b[0;34m)\u001b[0m\u001b[0;34m\u001b[0m\u001b[0;34m\u001b[0m\u001b[0m\n\u001b[0m\u001b[1;32m      6\u001b[0m \u001b[0;31m#print(n)\u001b[0m\u001b[0;34m\u001b[0m\u001b[0;34m\u001b[0m\u001b[0m\n\u001b[1;32m      7\u001b[0m \u001b[0;34m\u001b[0m\u001b[0m\n",
            "\u001b[0;31mIndexError\u001b[0m: list index out of range"
          ]
        }
      ]
    },
    {
      "cell_type": "markdown",
      "source": [
        "10,5"
      ],
      "metadata": {
        "id": "McTMp1ImvKYr"
      }
    },
    {
      "cell_type": "markdown",
      "source": [
        "Get input n and m and print m time of n\n"
      ],
      "metadata": {
        "id": "MZsPDx1th2Jo"
      }
    },
    {
      "cell_type": "code",
      "source": [
        "a = list(input().split())\n",
        "#print(a)\n",
        "#print(a[0])\n",
        "\n",
        "num = int(a[0])\n",
        "n = int(a[1])\n",
        "\n",
        "i = 1\n",
        "while i <= n:\n",
        "  print(num)\n",
        "  i += 1\n"
      ],
      "metadata": {
        "colab": {
          "base_uri": "https://localhost:8080/"
        },
        "id": "EVPf7dbquPkg",
        "outputId": "379909ec-840f-4876-d6b8-b61c81ae9542"
      },
      "execution_count": null,
      "outputs": [
        {
          "output_type": "stream",
          "name": "stdout",
          "text": [
            "2 3\n",
            "2\n",
            "2\n",
            "2\n"
          ]
        }
      ]
    },
    {
      "cell_type": "markdown",
      "source": [
        "Find the minimum value from the input"
      ],
      "metadata": {
        "id": "UsK49_7Bhv6z"
      }
    },
    {
      "cell_type": "code",
      "source": [
        "a = list(input().split())\n",
        "print(a)\n",
        "print(a[0])\n",
        "print(a[1])\n",
        "print(min(a))"
      ],
      "metadata": {
        "id": "hj7C7ukSvqDO",
        "colab": {
          "base_uri": "https://localhost:8080/"
        },
        "outputId": "f8d6e9c6-3b92-4033-89d4-955594caf475"
      },
      "execution_count": null,
      "outputs": [
        {
          "output_type": "stream",
          "name": "stdout",
          "text": [
            "23 56\n",
            "['23', '56']\n",
            "23\n",
            "56\n",
            "23\n"
          ]
        }
      ]
    },
    {
      "cell_type": "markdown",
      "source": [
        "Print \"Odd\" or \"Even\" for the corresponding cases."
      ],
      "metadata": {
        "id": "S2KgQjMyY5fk"
      }
    },
    {
      "cell_type": "code",
      "source": [
        "o = int(input())\n",
        "#\n",
        "if o == 0:\n",
        "    print(\"Zero\")\n",
        "elif o%2 == 0:\n",
        "    print(\"Even\")\n",
        "else:\n",
        "    print(\"Odd\")\n"
      ],
      "metadata": {
        "id": "taBmDOMYuawu",
        "colab": {
          "base_uri": "https://localhost:8080/"
        },
        "outputId": "cd92032e-adea-4284-d0d0-a5e719df753e"
      },
      "execution_count": null,
      "outputs": [
        {
          "output_type": "stream",
          "name": "stdout",
          "text": [
            "45\n",
            "Odd\n"
          ]
        }
      ]
    },
    {
      "cell_type": "markdown",
      "source": [
        "Print \"Odd\" or \"Even\" for the corresponding cases.| with Zero and Float value as Input"
      ],
      "metadata": {
        "id": "Kava_H5_Ywy0"
      }
    },
    {
      "cell_type": "code",
      "source": [
        "n = float(input())\n",
        "#\n",
        "if n == float(n):\n",
        "   n = round(n)\n",
        "   print(n)\n",
        "#\n",
        "o = n\n",
        "if o == 0:\n",
        "    print(\"Zero\")\n",
        "elif o%2 == 0:\n",
        "    print(\"Even\")\n",
        "else:\n",
        "    print(\"Odd\")\n"
      ],
      "metadata": {
        "colab": {
          "base_uri": "https://localhost:8080/"
        },
        "id": "kEE6tE4XO4Vg",
        "outputId": "945e923f-7b09-48d7-adac-44065f122c04"
      },
      "execution_count": null,
      "outputs": [
        {
          "output_type": "stream",
          "name": "stdout",
          "text": [
            "13.2\n",
            "13\n",
            "Odd\n"
          ]
        }
      ]
    },
    {
      "cell_type": "code",
      "source": [
        "p = 10000\n",
        "print(\"{:.2f}\".format(p))\n",
        "\n",
        "#\n"
      ],
      "metadata": {
        "colab": {
          "base_uri": "https://localhost:8080/"
        },
        "id": "-kjyKbjuZFa9",
        "outputId": "ad84d8b9-a76a-4eba-ee6e-e0c2778a6c06"
      },
      "execution_count": null,
      "outputs": [
        {
          "output_type": "stream",
          "name": "stdout",
          "text": [
            "10000.00\n"
          ]
        }
      ]
    },
    {
      "cell_type": "markdown",
      "source": [
        "Principle amount($), Interest Rate(%) and Time (years) in that order. Find Simple Interest."
      ],
      "metadata": {
        "id": "CTi5OKckiich"
      }
    },
    {
      "cell_type": "code",
      "source": [
        "p = input().split()\n",
        "p[0] = int(p[0])\n",
        "p[1] = float(p[1])\n",
        "p[2] = int(p[2])\n",
        "prn = p[0] * p[1] * p[2] / 100\n",
        "print(\"{:.2f}\".format(prn))\n",
        "\n"
      ],
      "metadata": {
        "colab": {
          "base_uri": "https://localhost:8080/"
        },
        "id": "B8V2dc20hxP1",
        "outputId": "86b542fa-40bf-4a16-f4d0-c86f15a6973a"
      },
      "execution_count": null,
      "outputs": [
        {
          "output_type": "stream",
          "name": "stdout",
          "text": [
            "200 1.1 51\n",
            "112.20\n"
          ]
        }
      ]
    },
    {
      "cell_type": "markdown",
      "source": [
        "Write a code to get an integer N and print the values from N to 1."
      ],
      "metadata": {
        "id": "p2TxAURypSvx"
      }
    },
    {
      "cell_type": "code",
      "source": [
        "N = int(input())\n",
        "\n",
        "while N >= 1:\n",
        "    print(N)\n",
        "    N -= 1     # N = N - 1"
      ],
      "metadata": {
        "colab": {
          "base_uri": "https://localhost:8080/"
        },
        "id": "cXnMb0zGoLGo",
        "outputId": "88dd57f1-1b4b-4837-abf5-24ce3ecca6e0"
      },
      "execution_count": null,
      "outputs": [
        {
          "output_type": "stream",
          "name": "stdout",
          "text": [
            "5\n",
            "5\n",
            "4\n",
            "3\n",
            "2\n",
            "1\n"
          ]
        }
      ]
    },
    {
      "cell_type": "markdown",
      "source": [
        "Write a code to get the input and print it 5 times.\n"
      ],
      "metadata": {
        "id": "HHJfAaDGuaH7"
      }
    },
    {
      "cell_type": "code",
      "source": [
        "n = int(input())\n",
        "#\n",
        "for i in range(5):\n",
        "  print(n)"
      ],
      "metadata": {
        "colab": {
          "base_uri": "https://localhost:8080/"
        },
        "id": "vcgspUJsuXLZ",
        "outputId": "769e5427-11f3-4bd6-deaa-5ccf782f3059"
      },
      "execution_count": null,
      "outputs": [
        {
          "output_type": "stream",
          "name": "stdout",
          "text": [
            "6\n",
            "6\n",
            "6\n",
            "6\n",
            "6\n",
            "6\n"
          ]
        }
      ]
    },
    {
      "cell_type": "markdown",
      "source": [
        "https://www.w3schools.com/python/python_strings_modify.asp  | Split()"
      ],
      "metadata": {
        "id": "C4daaNS14FsP"
      }
    },
    {
      "cell_type": "code",
      "source": [
        "my_string = \"Hello world, how are you today?\"\n",
        "word_list = my_string.split(\",\")\n",
        "print(word_list)"
      ],
      "metadata": {
        "colab": {
          "base_uri": "https://localhost:8080/"
        },
        "id": "pJiZ72611PE6",
        "outputId": "0ff40f1a-686a-4b1e-b7f6-949520fef050"
      },
      "execution_count": null,
      "outputs": [
        {
          "output_type": "stream",
          "name": "stdout",
          "text": [
            "['Hello world', ' how are you today?']\n"
          ]
        }
      ]
    },
    {
      "cell_type": "markdown",
      "source": [
        "Write a code to get an integer N and print the digits of the integer.| Using For Loop\n",
        "\n"
      ],
      "metadata": {
        "id": "FOElhMJW6QiW"
      }
    },
    {
      "cell_type": "code",
      "source": [
        "#\n",
        "n = int(input())\n",
        "#\n",
        "for i in str(n):\n",
        "    print(i,end=\" \")"
      ],
      "metadata": {
        "colab": {
          "base_uri": "https://localhost:8080/"
        },
        "id": "R9LQustN4yLV",
        "outputId": "56f2181f-0243-406b-b423-23bc0c9449ae"
      },
      "execution_count": null,
      "outputs": [
        {
          "output_type": "stream",
          "name": "stdout",
          "text": [
            "348\n",
            "3 4 8 "
          ]
        }
      ]
    },
    {
      "cell_type": "markdown",
      "source": [
        "Write a code to get an integer N and print the digits of the integer. | Using While Loop\n"
      ],
      "metadata": {
        "id": "iSlPwzdnFHYL"
      }
    },
    {
      "cell_type": "code",
      "source": [
        "n = int(input())\n",
        "\n",
        "# Use while loop to extract the digits of the integer\n",
        "result = []\n",
        "while n > 0:\n",
        "    digit = n % 10\n",
        "    result.append(str(digit))\n",
        "    n //= 10\n",
        "\n",
        "# Reverse the order of digits and print them separated by space\n",
        "print(\" \".join(result[::-1]))\n"
      ],
      "metadata": {
        "colab": {
          "base_uri": "https://localhost:8080/"
        },
        "id": "sjJlJDWPDlPl",
        "outputId": "973db8ce-2736-4721-9dd6-2c45b3b8ec7e"
      },
      "execution_count": null,
      "outputs": [
        {
          "output_type": "stream",
          "name": "stdout",
          "text": [
            "5456356\n",
            "5 4 5 6 3 5 6\n"
          ]
        }
      ]
    },
    {
      "cell_type": "markdown",
      "source": [
        "Write a code to get an integer N and print the sum of  values from 1 to N.| Using For Loop\n"
      ],
      "metadata": {
        "id": "elYLMHCaH9xo"
      }
    },
    {
      "cell_type": "code",
      "source": [
        "# Get input\n",
        "n = int(input())\n",
        "# Initialize a variable to store the sum\n",
        "total = 0\n",
        "# Use a loop to iterate from 1 to N and add each integer to the sum\n",
        "for i in range(1,n+1):\n",
        "    total += i   #  total = total + i\n",
        "    #print(total)\n",
        "# Print the sum\n",
        "print(total)\n"
      ],
      "metadata": {
        "colab": {
          "base_uri": "https://localhost:8080/"
        },
        "id": "npc6b1fIFXjs",
        "outputId": "8bb20952-2916-4d38-b157-4b37f7ab4cc2"
      },
      "execution_count": null,
      "outputs": [
        {
          "output_type": "stream",
          "name": "stdout",
          "text": [
            "10\n",
            "55\n"
          ]
        }
      ]
    },
    {
      "cell_type": "markdown",
      "source": [
        "Use Shri Dharacharya's Method to solve i.e. X = {-b + √(b² - 4ac) } / 2a & {-b-√(b² -4ac)} / 2a\n",
        "\n",
        "\n"
      ],
      "metadata": {
        "id": "tyDtMMg0Lppx"
      }
    },
    {
      "cell_type": "code",
      "source": [
        "import math\n",
        "a1 = list(map(int,input().split()))\n",
        "print(a1)\n",
        "a = a1[0]\n",
        "b = a1[1]\n",
        "c = a1[2]\n",
        "print(a,b,c)\n",
        "x = 0\n",
        "y = 0\n",
        "#\n",
        "numerator = -b - math.sqrt(b**2 - 4*a*c)\n",
        "root1 = (-b + math.sqrt(b**2 - 4*a*c)) / (2*a)\n",
        "denominator = 2*a\n",
        "# Calculate the result\n",
        "result = numerator / denominator\n",
        "result2 = root1 \n",
        "# Print the result\n",
        "print(\"{:.2f}\".format(result))\n",
        "print(\"{:.2f}\".format(result2))"
      ],
      "metadata": {
        "colab": {
          "base_uri": "https://localhost:8080/"
        },
        "id": "H5pAGVoLLujU",
        "outputId": "23397d26-321c-4284-f1e5-eb97866c05e8"
      },
      "execution_count": null,
      "outputs": [
        {
          "output_type": "stream",
          "name": "stdout",
          "text": [
            "1 2 -3\n",
            "[1, 2, -3]\n",
            "1 2 -3\n",
            "-3.00\n",
            "1.00\n"
          ]
        }
      ]
    },
    {
      "cell_type": "markdown",
      "source": [
        " get a string as input and reverse the string without using temporary variable.\n",
        " https://codevocab.com/program/python-program-to-reverse-a-string/    ||\n",
        " https://www.codevscolor.com/python-reverse-a-string"
      ],
      "metadata": {
        "id": "9Tak7Z8PVBxQ"
      }
    },
    {
      "cell_type": "code",
      "source": [
        "def r (str):\n",
        "    return str[::-1]\n",
        "#\n",
        "g = input()\n",
        "print(r(g))"
      ],
      "metadata": {
        "colab": {
          "base_uri": "https://localhost:8080/"
        },
        "id": "ClgliK6tU7x1",
        "outputId": "9b231d6d-8d3c-4b44-ccb5-4aca50b10975"
      },
      "execution_count": null,
      "outputs": [
        {
          "output_type": "stream",
          "name": "stdout",
          "text": [
            "guvi\n",
            "ivug\n"
          ]
        }
      ]
    },
    {
      "cell_type": "markdown",
      "source": [
        "Simple way to reverse string."
      ],
      "metadata": {
        "id": "B3YskT-zZcZS"
      }
    },
    {
      "cell_type": "code",
      "source": [
        "g = input()\n",
        "for i in g[::-1]:\n",
        "  print(i,end=\"\")"
      ],
      "metadata": {
        "colab": {
          "base_uri": "https://localhost:8080/"
        },
        "id": "kJY0eaxYVS7F",
        "outputId": "eca4b9ab-71b9-4b0d-f549-fab739d58834"
      },
      "execution_count": null,
      "outputs": [
        {
          "output_type": "stream",
          "name": "stdout",
          "text": [
            "GUVI\n",
            "IVUG"
          ]
        }
      ]
    },
    {
      "cell_type": "markdown",
      "source": [
        "You are provided with a number \"N\", Find the Nth term of the series: 1, 4, 9, 16, 25, 36, 49, 64, 81, | (Print \"Error\" if N = negative value and 0 if N = 0)."
      ],
      "metadata": {
        "id": "JEHPo_4ZdZNU"
      }
    },
    {
      "cell_type": "code",
      "source": [
        "#\n",
        "n = int(input())\n",
        "#\n",
        "if n == 0:\n",
        "      print(\"0\")\n",
        "elif n == -abs(n):\n",
        "      print(\"Error\")\n",
        "else:\n",
        "      for i in range(n):\n",
        "          i = n*n\n",
        "      print(i)\n",
        "#\n",
        "\n"
      ],
      "metadata": {
        "id": "Csfca_ijZaMC",
        "colab": {
          "base_uri": "https://localhost:8080/"
        },
        "outputId": "6c095680-7227-416b-c9ab-cfe2e19fff3d"
      },
      "execution_count": null,
      "outputs": [
        {
          "output_type": "stream",
          "name": "stdout",
          "text": [
            "-3\n",
            "Error\n"
          ]
        }
      ]
    },
    {
      "cell_type": "markdown",
      "source": [
        "you are given with a number A i.e. the temperature in Celcius. Write a program to convert this into Fahrenheit. "
      ],
      "metadata": {
        "id": "ps6TH00HkStr"
      }
    },
    {
      "cell_type": "code",
      "source": [
        "# Formula : (1°C × 9/5) + 32 = 33.8°F\n",
        "#\n",
        "n = int(input())\n",
        "x = (n*9/5)+32\n",
        "print(x)"
      ],
      "metadata": {
        "colab": {
          "base_uri": "https://localhost:8080/"
        },
        "id": "R1J-ef0uc5id",
        "outputId": "2a89a014-7a08-4805-f238-619869adcadc"
      },
      "execution_count": null,
      "outputs": [
        {
          "output_type": "stream",
          "name": "stdout",
          "text": [
            "12\n",
            "53.6\n"
          ]
        }
      ]
    },
    {
      "cell_type": "markdown",
      "source": [
        "Define a number to be rounded off : "
      ],
      "metadata": {
        "id": "mzw40PKLkwOn"
      }
    },
    {
      "cell_type": "code",
      "source": [
        "# Define a number to be rounded off\n",
        "n = float(input())\n",
        "\n",
        "# Round off the number to 2 decimal places\n",
        "rounded_n = round(n,2)\n",
        "\n",
        "# Print the rounded number\n",
        "print(\"The rounded number is:\", rounded_n)\n"
      ],
      "metadata": {
        "colab": {
          "base_uri": "https://localhost:8080/"
        },
        "id": "9nJR-EoXkRfJ",
        "outputId": "4d854f03-6686-419d-dc15-5ce96cdfe587"
      },
      "execution_count": null,
      "outputs": [
        {
          "output_type": "stream",
          "name": "stdout",
          "text": [
            "12.56\n",
            "The rounded number is: 13\n"
          ]
        }
      ]
    },
    {
      "cell_type": "markdown",
      "source": [
        "Write a code get an integer number as input and print the sum of the digits.\n",
        "| Using While Loop\n",
        "\n"
      ],
      "metadata": {
        "id": "SFFhc9QZ-vPp"
      }
    },
    {
      "cell_type": "code",
      "source": [
        "#\n",
        "num = int(input(\"Enter an integer number: \"))\n",
        "#\n",
        "sum = 0\n",
        "while num > 0:\n",
        "    digit = num % 10\n",
        "    sum += digit\n",
        "    num //= 10\n",
        "print(\"The sum of digits is:\", sum)\n",
        "\n",
        "\n",
        "   "
      ],
      "metadata": {
        "colab": {
          "base_uri": "https://localhost:8080/"
        },
        "id": "AoGCMk-r-xq3",
        "outputId": "dc2f4d17-4a83-4083-b7df-f92c3767fc94"
      },
      "execution_count": null,
      "outputs": [
        {
          "output_type": "stream",
          "name": "stdout",
          "text": [
            "Enter an integer number: 456\n",
            "The sum of digits is: 15\n"
          ]
        }
      ]
    },
    {
      "cell_type": "markdown",
      "source": [
        "Write a code get an integer number as input and print the sum of the digits.\n",
        " | Using For Loop"
      ],
      "metadata": {
        "id": "H1zFK4b-M_-x"
      }
    },
    {
      "cell_type": "code",
      "source": [
        "n = int(input(\"Enter an integer number: \"))  # 124\n",
        "j = 0\n",
        "\n",
        "for i in str(n): # 456\n",
        "      j +=int(i)  # j = j + int(i)\n",
        "print(j)\n",
        "     \n",
        "\n",
        "\n"
      ],
      "metadata": {
        "colab": {
          "base_uri": "https://localhost:8080/"
        },
        "id": "J9KNDGwRI-he",
        "outputId": "511a1b9e-54ae-459b-8c73-cbbaa2a84669"
      },
      "execution_count": null,
      "outputs": [
        {
          "output_type": "stream",
          "name": "stdout",
          "text": [
            "Enter an integer number: 456\n",
            "15\n"
          ]
        }
      ]
    },
    {
      "cell_type": "markdown",
      "source": [
        "Write a code to get an integer N and print the even values from 1 till N in a separate line. ||  Print the even values from 1 to N in a separate line."
      ],
      "metadata": {
        "id": "BHLYzv7QQmfn"
      }
    },
    {
      "cell_type": "code",
      "source": [
        "N = int(input(\"Enter a value of N: \"))\n",
        "for i in range(2, N+1, 2):\n",
        "    print(i)"
      ],
      "metadata": {
        "colab": {
          "base_uri": "https://localhost:8080/"
        },
        "id": "5cn--0w4QXR5",
        "outputId": "0ef62041-5648-4a71-a4a5-28a4d04ddb96"
      },
      "execution_count": null,
      "outputs": [
        {
          "output_type": "stream",
          "name": "stdout",
          "text": [
            "Enter a value of N: 8\n",
            "2\n",
            "4\n",
            "6\n",
            "8\n"
          ]
        }
      ]
    },
    {
      "cell_type": "markdown",
      "source": [
        "Write a code get an integer number as input and print the odd and even digits of the number separately."
      ],
      "metadata": {
        "id": "lat1sH821pnZ"
      }
    },
    {
      "cell_type": "code",
      "source": [
        "n = int(input())  # 1234\n",
        "\n",
        "even_digits = []\n",
        "odd_digits = []\n",
        "\n",
        "for num in str(n):\n",
        "    if int(num) % 2 == 0:\n",
        "        even_digits.append(num)\n",
        "    else:\n",
        "        odd_digits.append(num)\n",
        "\n",
        "even_digits.sort()\n",
        "odd_digits.sort()\n",
        "\n",
        "print(*even_digits)\n",
        "print(*odd_digits)"
      ],
      "metadata": {
        "colab": {
          "base_uri": "https://localhost:8080/"
        },
        "id": "r1Cll_gl2TYN",
        "outputId": "3aaefdb3-ec24-4bfb-ae8b-83977834dbb7"
      },
      "execution_count": null,
      "outputs": [
        {
          "output_type": "stream",
          "name": "stdout",
          "text": [
            "233342\n",
            "2 2 4\n",
            "3 3 3\n"
          ]
        }
      ]
    },
    {
      "cell_type": "markdown",
      "source": [
        "You are provided with the radius of a circle \"A\". Find the length of its circumference."
      ],
      "metadata": {
        "id": "9EVqyd1GCn7I"
      }
    },
    {
      "cell_type": "code",
      "source": [
        "n = float(input())\n",
        "#\n",
        "circle = 2 * n * 3.141\n",
        "c = round(circle, 2)\n",
        "print(c)"
      ],
      "metadata": {
        "colab": {
          "base_uri": "https://localhost:8080/"
        },
        "id": "ZdrBFBK7CqQk",
        "outputId": "06febcb9-6ccc-4ea7-a1d4-5e7c1fc17a2e"
      },
      "execution_count": null,
      "outputs": [
        {
          "output_type": "stream",
          "name": "stdout",
          "text": [
            "2\n",
            "12.56\n"
          ]
        }
      ]
    },
    {
      "cell_type": "code",
      "source": [
        "import math\n",
        "n = float(input())\n",
        "#\n",
        "circle = 2 * n * (math.pi)\n",
        "c = round(circle, 2)\n",
        "print(c)"
      ],
      "metadata": {
        "colab": {
          "base_uri": "https://localhost:8080/"
        },
        "id": "mRXWRvYlEuf8",
        "outputId": "a8a51e2b-8c53-41a4-945d-da7ed96de5dc"
      },
      "execution_count": null,
      "outputs": [
        {
          "output_type": "stream",
          "name": "stdout",
          "text": [
            "2\n",
            "12.57\n"
          ]
        }
      ]
    },
    {
      "cell_type": "markdown",
      "source": [
        "Using the method of looping, write a program to print the table of 9 till N in the format as follows:\n",
        "(N is input by the user)"
      ],
      "metadata": {
        "id": "e5VaWU8kHXRz"
      }
    },
    {
      "cell_type": "code",
      "source": [
        "from os import killpg\n",
        "#\n",
        "\n",
        "n = int(input())\n",
        "k = []\n",
        "#\n",
        "for i in range(1, n+1):\n",
        "    j = i * 9\n",
        "    k.append(j)\n",
        "\n",
        "print(*k)\n",
        "    "
      ],
      "metadata": {
        "colab": {
          "base_uri": "https://localhost:8080/"
        },
        "id": "z2aZ0PXZHe_v",
        "outputId": "9a024e8b-7179-4dc1-caa2-49ce4c12421b"
      },
      "execution_count": null,
      "outputs": [
        {
          "output_type": "stream",
          "name": "stdout",
          "text": [
            "3\n",
            "9 18 27\n"
          ]
        }
      ]
    },
    {
      "cell_type": "markdown",
      "source": [
        "(27)Write a code to get 2 integers as input and find the HCF of the 2 integer without using recursion or Euclidean algorithm."
      ],
      "metadata": {
        "id": "VDLgNU5sJe-f"
      }
    },
    {
      "cell_type": "code",
      "source": [
        "#\n",
        "# Get input from user\n",
        "num1 = int(input(\"Enter first integer: \"))\n",
        "num2 = int(input(\"Enter second integer: \"))\n",
        "\n",
        "# Find the smaller of the two numbers\n",
        "if num1 > num2:\n",
        "    smaller = num2\n",
        "else:\n",
        "    smaller = num1\n",
        "\n",
        "# Iterate from 1 to the smaller of the two numbers and find the HCF\n",
        "hcf = 1\n",
        "for i in range(1, smaller + 1):\n",
        "    if (num1 % i == 0) and (num2 % i == 0):\n",
        "        hcf = i\n",
        "\n",
        "# Output the HCF\n",
        "print(\"The HCF of\", num1, \"and\", num2, \"is\", hcf)\n"
      ],
      "metadata": {
        "id": "G-RTUxwVJfJ8"
      },
      "execution_count": null,
      "outputs": []
    },
    {
      "cell_type": "code",
      "source": [
        "# Get input from user\n",
        "a, b = map(int, input().split())\n",
        "\n",
        "# Find the HCF using a simple iterative approach\n",
        "hcf = 1\n",
        "for i in range(1, min(a, b) + 1):\n",
        "    if a % i == 0 and b % i == 0:\n",
        "        hcf = i\n",
        "\n",
        "# Print the HCF\n",
        "print(hcf)\n",
        "\n",
        "\n"
      ],
      "metadata": {
        "colab": {
          "base_uri": "https://localhost:8080/"
        },
        "id": "8OZyCBAeJ07I",
        "outputId": "1d334c32-6d08-42d5-b904-2fa6a9f733e9"
      },
      "execution_count": null,
      "outputs": [
        {
          "output_type": "stream",
          "name": "stdout",
          "text": [
            "2 3\n",
            "1\n"
          ]
        }
      ]
    },
    {
      "cell_type": "markdown",
      "source": [
        "ARRAY -1 You are provided with an ARRAY in which all elements are repeated thrice except one which is repeated twice.Your task is to print that number.|\n",
        "Sample Input :\n",
        "1->5 | \n",
        "2->13 12 13 12 13\n"
      ],
      "metadata": {
        "id": "XJGWWkKH0Vfi"
      }
    },
    {
      "cell_type": "code",
      "source": [
        "#\n",
        "#n = int(input()) # 5\n",
        "arr = list(map(int, input().split()))  # 13 12 13 12 13\n",
        "c = []\n",
        "#\n",
        "for i in arr:\n",
        "    if arr.count(i) == 2:\n",
        "        if i not in c:\n",
        "            c.append(i)\n",
        "print(c)\n",
        "if len(c) >= 1:\n",
        "    print(*c)\n",
        "#\n",
        "\n",
        "#print(m)\n"
      ],
      "metadata": {
        "colab": {
          "base_uri": "https://localhost:8080/"
        },
        "id": "6NOmYPsl0WF5",
        "outputId": "69e6f4fb-c225-4848-8dc7-4f3fdf47a45e"
      },
      "execution_count": null,
      "outputs": [
        {
          "output_type": "stream",
          "name": "stdout",
          "text": [
            "13 12 13 12 13\n",
            "[12]\n",
            "12\n"
          ]
        }
      ]
    },
    {
      "cell_type": "markdown",
      "source": [
        "ARRAY -2 You are given with an array of numbers, Your task is to print the difference of indices of largest and smallest number.All number are unique. | "
      ],
      "metadata": {
        "id": "ymGphn3KI1HN"
      }
    },
    {
      "cell_type": "code",
      "source": [
        "a = input()  # 5\n",
        "arr = list(map(int,input().split()))  # 1 6 4 0 3\n",
        "\n",
        "def diff_indices(arr):\n",
        "\n",
        "            min_index = arr.index(min(arr))\n",
        "            max_index = arr.index(max(arr))\n",
        "            return abs(max_index - min_index)\n",
        "\n",
        "#print (diff_indices(arr))\n",
        "c = diff_indices(arr)\n",
        "#print (*c)\n",
        "if c >2:\n",
        "    print (c)\n",
        "elif c<=2:\n",
        "    print(-c)\n"
      ],
      "metadata": {
        "colab": {
          "base_uri": "https://localhost:8080/"
        },
        "id": "-EMV0IiFIwCw",
        "outputId": "99b4f024-1a6b-434c-9a61-420fea28b30c"
      },
      "execution_count": null,
      "outputs": [
        {
          "output_type": "stream",
          "name": "stdout",
          "text": [
            "5\n",
            "1 6 4 0 3\n",
            "-2\n"
          ]
        }
      ]
    },
    {
      "cell_type": "markdown",
      "source": [
        "ARRAY -3 You are given with an circular array .Your task is calculate the difference between two consecutive number. And if difference is greater than ‘k’, print 1 else print 0 || Sample Output :\n",
        "0 1 0 1 0"
      ],
      "metadata": {
        "id": "pM1XK4I8I8qG"
      }
    },
    {
      "cell_type": "code",
      "source": [
        "n, k = map(int,input().split()) # 5 15\n",
        "a = list(map(int,input().split()))  # 50 65 85 98 35\n",
        "arr = []\n",
        "for i in range(n-1):\n",
        "    if abs(a[i]-a[i+1]) > k:\n",
        "        arr.append(1)\n",
        "    else:\n",
        "        arr.append(0)\n",
        "        \n",
        "arr1 = a[-1]-a[0] \n",
        "if abs(arr1) > k:\n",
        "    arr.append(1)\n",
        "else:\n",
        "    arr.append(0)\n",
        "    \n",
        "print(*arr)\n",
        "# OUT PUT-> 0 1 0 1 0"
      ],
      "metadata": {
        "colab": {
          "base_uri": "https://localhost:8080/"
        },
        "id": "AE2R9PUPI85w",
        "outputId": "6c2a081c-6c33-4ce7-873a-6acfda081668"
      },
      "execution_count": null,
      "outputs": [
        {
          "output_type": "stream",
          "name": "stdout",
          "text": [
            "5 15\n",
            "50 65 85 98 35\n",
            "0 1 0 1 0\n"
          ]
        }
      ]
    },
    {
      "cell_type": "markdown",
      "source": [
        "ARRAY -4 You are a passport issuer, but due to some problems in the system, there are redundant  passport numbers. Your task is to delete all the duplicate passport numbers. You are given a list of passport numbers.| Sample Input :\n",
        "->5 |\n",
        "-> A23 B56 B56 C79 D16 | \n",
        "Sample Output :\n",
        "A23 B56 C79 D16"
      ],
      "metadata": {
        "id": "M_uvNBf2JL4o"
      }
    },
    {
      "cell_type": "code",
      "source": [
        "\n",
        "n = int(input())  # 5\n",
        "l = list(input().split())  # A23 B56 B56 C79 D16\n",
        "p = []\n",
        "#\n",
        "for i in l:\n",
        "    if i not in p:\n",
        "        p.append(i)\n",
        "#\n",
        "print(*p)\n"
      ],
      "metadata": {
        "colab": {
          "base_uri": "https://localhost:8080/"
        },
        "id": "6SGffyemJMHH",
        "outputId": "e39c8177-c7a0-4dfa-b801-7bbba0943324"
      },
      "execution_count": null,
      "outputs": [
        {
          "output_type": "stream",
          "name": "stdout",
          "text": [
            "5\n",
            "A23 B56 B56 C79 D16\n",
            "A23 B56 C79 D16\n"
          ]
        }
      ]
    },
    {
      "cell_type": "markdown",
      "source": [
        "ARRAY -5 you are given with array of numbers.you have to find whether array is beautiful or not. A beautiful array is an array whose sum of all numbers is divisible by 2, 3 and 5"
      ],
      "metadata": {
        "id": "Pd_XZTUlJfER"
      }
    },
    {
      "cell_type": "code",
      "source": [
        "#\n",
        "n = int(input()) # 5   # Taking input for the size of the array\n",
        "arr = list(map(int, input().split())) # 5 25 35 -5 30  # Taking input for the array elements and converting it into a list of integers\n",
        "\n",
        "sum_of_numbers = sum(arr) # Calculating the sum of all the elements in the array\n",
        "\n",
        "# Checking if the sum of numbers is divisible by 2, 3, and 5\n",
        "if sum_of_numbers % 2 == 0 and sum_of_numbers % 3 == 0 and sum_of_numbers % 5 == 0:\n",
        "    print(\"1\") # If the array is beautiful, print 1\n",
        "else:\n",
        "    print(\"0\") # If the array is not beautiful, print 0\n",
        "\n"
      ],
      "metadata": {
        "colab": {
          "base_uri": "https://localhost:8080/"
        },
        "id": "5OH_sEKYJfSa",
        "outputId": "1f643919-7e33-4953-a792-8b06ed43de76"
      },
      "execution_count": null,
      "outputs": [
        {
          "output_type": "stream",
          "name": "stdout",
          "text": [
            "5\n",
            "5 25 35 -5 30\n",
            "1\n"
          ]
        }
      ]
    },
    {
      "cell_type": "markdown",
      "source": [
        "ARRAY -6 You are given an array of numbers. Print the least occurring element. If there is more than 1 element print all of them in decreasing order of their value."
      ],
      "metadata": {
        "id": "G2doCX9bJs1l"
      }
    },
    {
      "cell_type": "code",
      "source": [
        "#\n",
        "n = int(input()) # 9\n",
        "arr = list(map(int, input().split())) # 1 6 4 56 56 56 6 4 2\n",
        "a = []\n",
        "b = []\n",
        "#\n",
        "for i in arr:\n",
        "    if arr.count(i) == 1:\n",
        "        if i not in a:\n",
        "            a.append(i)\n",
        "           \n",
        "print(*a)\n",
        "#\n",
        "#"
      ],
      "metadata": {
        "colab": {
          "base_uri": "https://localhost:8080/"
        },
        "id": "3At74vSDJtFN",
        "outputId": "03260edc-1fa2-4365-92e3-620d9461df70"
      },
      "execution_count": null,
      "outputs": [
        {
          "output_type": "stream",
          "name": "stdout",
          "text": [
            "9\n",
            "1 6 4 56 56 56 6 4 2\n",
            "1 2\n"
          ]
        }
      ]
    },
    {
      "cell_type": "markdown",
      "source": [
        "ARRAY -7 You are given with an array. For each element present in the array your task is to print the next smallest than that number. If it is not smallest print -1 | "
      ],
      "metadata": {
        "id": "X67zIgWiJ091"
      }
    },
    {
      "cell_type": "code",
      "source": [
        "#\n",
        "n = int(input()) # 7\n",
        "arr = list(map(int, input().split()))  # 10 7 9 3 2 1 15\n",
        "\n",
        "for i in range(len(arr)):\n",
        "    next_smallest = -1\n",
        "    for j in range(i+1, len(arr)):\n",
        "        if arr[j] < arr[i]:\n",
        "            next_smallest = arr[j]\n",
        "            break\n",
        "    print(next_smallest, end=' ')\n",
        "print()\n",
        "\n",
        "# ERROR IN OUTPUT : "
      ],
      "metadata": {
        "colab": {
          "base_uri": "https://localhost:8080/"
        },
        "id": "hixQTVfSJ1Sr",
        "outputId": "c0572539-e5f6-4de6-cf77-c81611b43b40"
      },
      "execution_count": null,
      "outputs": [
        {
          "output_type": "stream",
          "name": "stdout",
          "text": [
            "7\n",
            "10 7 9 3 2 1 15\n",
            "7 3 3 2 1 -1 -1 \n"
          ]
        }
      ]
    },
    {
      "cell_type": "markdown",
      "source": [
        "ARRAY -8 You are provided with an array in which all elements are repeated thrice except one which is repeated twice.Your task is to print that number.|"
      ],
      "metadata": {
        "id": "HAmP6W84KAks"
      }
    },
    {
      "cell_type": "code",
      "source": [
        "#\n",
        "n = int(input())  #5\n",
        "arr = list(map(int, input().split()))  # 13 12 13 12 13\n",
        "c = []\n",
        "#\n",
        "for i in arr:\n",
        "    if arr.count(i) == 2:\n",
        "        if i not in c:\n",
        "            c.append(i)\n",
        "if len(c) >= 1:\n",
        "    print(*c)\n",
        "# \n",
        "#"
      ],
      "metadata": {
        "colab": {
          "base_uri": "https://localhost:8080/"
        },
        "id": "SyivSqohKFsW",
        "outputId": "891e34fb-5bf2-4853-9b96-2ffe7b54ff44"
      },
      "execution_count": null,
      "outputs": [
        {
          "output_type": "stream",
          "name": "stdout",
          "text": [
            "5\n",
            "13 12 13 12 13\n",
            "12\n"
          ]
        }
      ]
    },
    {
      "cell_type": "markdown",
      "source": [
        "ARRAY -9 Assume you are a student studying in school.You are given a task to find first negative integer for each and every window of size k.|"
      ],
      "metadata": {
        "id": "7IESrOVub53S"
      }
    },
    {
      "cell_type": "code",
      "source": [
        "#\n",
        "n = int(input())\n",
        "arr = list(map(int, input().split()))\n",
        "k = int(input())\n",
        "#\n",
        "for i in range(n-k+1):\n",
        "    window = arr[i:i+k]\n",
        "    #\n",
        "    first_negative = next((num for num in window if num < 0), None)\n",
        "    #\n",
        "    if first_negative is not None:\n",
        "        print(first_negative, end=\" \")\n",
        "    else:\n",
        "        print(\"0\", end=\" \") # 0 represents no negative number in the window\n",
        "#"
      ],
      "metadata": {
        "id": "L_gFGdoc0xNt"
      },
      "execution_count": null,
      "outputs": []
    },
    {
      "cell_type": "markdown",
      "source": [
        "ARRAY -10 You are given with two arrays. Your task is to merge the array such that first array is in ascending order and second one in descending order."
      ],
      "metadata": {
        "id": "hB3xBG1j0eng"
      }
    },
    {
      "cell_type": "code",
      "source": [
        "#A Simple Hello World\n",
        "aa = list(map(int, input().split())) # 3 3\n",
        "arr = list(map(int, input().split())) # 23 15 16\n",
        "ar1 = list(map(int, input().split())) # 357 65 10\n",
        "a = []\n",
        "b = []\n",
        "#\n",
        "for i in arr:\n",
        "  a.append(i)\n",
        "#\n",
        "a.sort()\n",
        "#\n",
        "for j in ar1:\n",
        "  b.append(j)\n",
        "#  \n",
        "b.sort(reverse=True)\n",
        "#\n",
        "c = a + b\n",
        "print(*c)"
      ],
      "metadata": {
        "id": "UGuahkuP0kqp"
      },
      "execution_count": null,
      "outputs": []
    },
    {
      "cell_type": "markdown",
      "source": [
        "ARRAY -11 You are given an array of non-negative integers representing height of walls at index i as Ai and the width of each block is 1. Compute how much air can be encapsulated between the walls of chamber."
      ],
      "metadata": {
        "id": "ZBYIP6Pu00Z1"
      }
    },
    {
      "cell_type": "code",
      "source": [
        "#\n",
        "n = int(input())\n",
        "m = list(map(int, input().split()))\n",
        "#\n",
        "\n"
      ],
      "metadata": {
        "id": "8D9sSyRdb6MU"
      },
      "execution_count": null,
      "outputs": []
    },
    {
      "cell_type": "markdown",
      "source": [
        "ZEN -1 Given a number n followed by n numbers Print the smallest number in an array."
      ],
      "metadata": {
        "id": "KDA-rcMKNTmL"
      }
    },
    {
      "cell_type": "code",
      "source": [
        "#\n",
        "n = int(input())\n",
        "#\n",
        "m = list(input().split())\n",
        "o = []  # 5 7 4 4 6 8\n",
        "#\n",
        "for i in m:\n",
        "  o.append(i)\n",
        "#\n",
        "x = min(o)\n",
        "print(x)"
      ],
      "metadata": {
        "colab": {
          "base_uri": "https://localhost:8080/"
        },
        "id": "KCKB-6MaNTzn",
        "outputId": "f01916e5-d4fa-464a-8fde-fd3f7cd6a803"
      },
      "execution_count": null,
      "outputs": [
        {
          "output_type": "stream",
          "name": "stdout",
          "text": [
            "5 7 4 4 6 8\n",
            "['5', '7', '4', '4', '6', '8']\n",
            "4\n"
          ]
        }
      ]
    },
    {
      "cell_type": "markdown",
      "source": [
        "ZEN -2 Given a number n followed by n numbers print the number less than 15 if there is no number exits print -1"
      ],
      "metadata": {
        "id": "tt3wv9CRUzws"
      }
    },
    {
      "cell_type": "code",
      "source": [
        "#n = int(input()) \n",
        "numbers = list(map(int, input().split()))  \n",
        "\n",
        "# Find the first number less than 15 in the list\n",
        "result = -1  # Assume the result to be -1 initially\n",
        "for num in numbers:\n",
        "    if num < 15:\n",
        "        result = num\n",
        "        break  # Exit the loop as soon as a number less than 15 is found\n",
        "\n",
        "print(result)  # Print the result\n"
      ],
      "metadata": {
        "colab": {
          "base_uri": "https://localhost:8080/"
        },
        "id": "GpOICqPTaqRD",
        "outputId": "f2d5dabe-ca2a-4cda-8d23-cfe2a8dad844"
      },
      "execution_count": null,
      "outputs": [
        {
          "output_type": "stream",
          "name": "stdout",
          "text": [
            "5 7 4\n",
            "5\n"
          ]
        }
      ]
    },
    {
      "cell_type": "markdown",
      "source": [
        "Coded by ChatGPT:"
      ],
      "metadata": {
        "id": "ttFLNDuchxQU"
      }
    },
    {
      "cell_type": "code",
      "source": [
        "n = int(input())  # Read the first input which is the number of integers to be entered next\n",
        "numbers = list(map(int, input().split()))  # Read the next line of input containing n integers separated by space\n",
        "\n",
        "# Find all the numbers less than 15 in the list\n",
        "result = []  # Initialize an empty list to store the numbers less than 15\n",
        "for num in numbers:\n",
        "    if num < 15:\n",
        "        result.append(num)\n",
        "\n",
        "if result:  # Check if the result list is not empty\n",
        "    print(*result)  # Print all the numbers less than 15 separated by space\n",
        "else:\n",
        "    print(-1)  # If no number less than 15 is found, print -1\n"
      ],
      "metadata": {
        "colab": {
          "base_uri": "https://localhost:8080/"
        },
        "id": "Uuuj747KhZx8",
        "outputId": "e67a8134-e8b3-445b-fce8-b3e7fbf682c9"
      },
      "execution_count": null,
      "outputs": [
        {
          "output_type": "stream",
          "name": "stdout",
          "text": [
            "3\n",
            "5 4 7\n",
            "5 4 7\n"
          ]
        }
      ]
    },
    {
      "cell_type": "markdown",
      "source": [
        "Zen -3 Given a number n followed by n numbers find whether it is odd or even | Sample Output :\n",
        "odd odd even"
      ],
      "metadata": {
        "id": "wOxpsVmRiPlz"
      }
    },
    {
      "cell_type": "code",
      "source": [
        "#n = int(input())\n",
        "num = list(map(int, input().split()))\n",
        "arr = []\n",
        "#\n",
        "for i in num:\n",
        "  if i%2 == 0:\n",
        "    print(\"even\")\n",
        "  else:\n",
        "    print(\"odd\")"
      ],
      "metadata": {
        "colab": {
          "base_uri": "https://localhost:8080/"
        },
        "id": "3pXFHuZ8jQDg",
        "outputId": "196d4b76-c38b-4546-d575-85d8a524f935"
      },
      "execution_count": null,
      "outputs": [
        {
          "output_type": "stream",
          "name": "stdout",
          "text": [
            "5 6 3\n",
            "odd\n",
            "even\n",
            "odd\n"
          ]
        }
      ]
    },
    {
      "cell_type": "markdown",
      "source": [
        "My Clear Code :)\n"
      ],
      "metadata": {
        "id": "DIJ-uJVdpCy2"
      }
    },
    {
      "cell_type": "code",
      "source": [
        "n = int(input())\n",
        "num = list(map(int, input().split()))\n",
        "arr = []\n",
        "arr1 = []\n",
        "#\n",
        "for i in num:\n",
        "  arr.append(i)\n",
        "for j in arr:\n",
        "  if j%2 == 0:\n",
        "    #print(\"even\")\n",
        "    arr1.append(\"even\")\n",
        "  else:\n",
        "    #print(\"odd\")\n",
        "    arr1.append(\"odd\")\n",
        "\n",
        "print(*arr1)"
      ],
      "metadata": {
        "colab": {
          "base_uri": "https://localhost:8080/"
        },
        "id": "MYL8VRH2m1pf",
        "outputId": "745c7d4d-cadd-4ef0-c904-62c92371b4cf"
      },
      "execution_count": null,
      "outputs": [
        {
          "output_type": "stream",
          "name": "stdout",
          "text": [
            "5 6 3\n",
            "odd even odd\n"
          ]
        }
      ]
    },
    {
      "cell_type": "markdown",
      "source": [
        "Zen -4 Given a number n Find whether the number is divisible  by 2,3 and 5.if divisible print yes else print no | "
      ],
      "metadata": {
        "id": "ARuDcoBupyXK"
      }
    },
    {
      "cell_type": "code",
      "source": [
        "#\n",
        "n = int(input())\n",
        "#\n",
        "if n%2 == 0 and n%3 == 0 and n%5 == 0:\n",
        "  print(\"yes\")\n",
        "else:\n",
        "  print(\"no\")"
      ],
      "metadata": {
        "colab": {
          "base_uri": "https://localhost:8080/"
        },
        "id": "zqQ97nT-pyrk",
        "outputId": "e6a9c252-be1f-4266-e627-eca84aec29fb"
      },
      "execution_count": null,
      "outputs": [
        {
          "output_type": "stream",
          "name": "stdout",
          "text": [
            "12\n",
            "no\n"
          ]
        }
      ]
    },
    {
      "cell_type": "markdown",
      "source": [
        "Zen -5 Given a string convert string into upper case | guvi to GUVI\n",
        "\n"
      ],
      "metadata": {
        "id": "lpLhl-AJrbFE"
      }
    },
    {
      "cell_type": "code",
      "source": [
        "n = input()\n",
        "#\n",
        "print(n.upper())"
      ],
      "metadata": {
        "colab": {
          "base_uri": "https://localhost:8080/"
        },
        "id": "Xv_FEBvwsCDH",
        "outputId": "cfe2a621-9778-4ae8-f211-c4cf778dd087"
      },
      "execution_count": null,
      "outputs": [
        {
          "output_type": "stream",
          "name": "stdout",
          "text": [
            "hello world\n",
            "HELLO WORLD\n"
          ]
        }
      ]
    },
    {
      "cell_type": "markdown",
      "source": [
        "Zen -6 Given a number m and k separated by a space print the numbers between m and k | Via Single input - While Loop\n"
      ],
      "metadata": {
        "id": "zosrYZo_s04W"
      }
    },
    {
      "cell_type": "code",
      "source": [
        "#\n",
        "num = list(map(int, input().split()))\n",
        "#print(num)\n",
        "#print(num[0])\n",
        "#print(num[1])\n",
        "#\n",
        "i = num[0]+1\n",
        "while i < num[1]:  # num[1]\n",
        "  print(i,end=\" \")\n",
        "  i += 1  # i = i + 1\n"
      ],
      "metadata": {
        "colab": {
          "base_uri": "https://localhost:8080/"
        },
        "id": "GvFhnhP9s1KK",
        "outputId": "97f1bfe9-e89b-48f6-d371-0e9f2ed43ed2"
      },
      "execution_count": null,
      "outputs": [
        {
          "output_type": "stream",
          "name": "stdout",
          "text": [
            "5 11\n",
            "6 7 8 9 10 "
          ]
        }
      ]
    },
    {
      "cell_type": "markdown",
      "source": [
        "Using For Loop : to list number between 2 given number.| Via : Single input"
      ],
      "metadata": {
        "id": "a13P_Q-61j3g"
      }
    },
    {
      "cell_type": "code",
      "source": [
        "num = list(map(int, input().split()))\n",
        "#print(num[0])\n",
        "#print(num[1])\n",
        "#\n",
        "for i in range(num[0]+1, num[1]):\n",
        "  print(i)"
      ],
      "metadata": {
        "colab": {
          "base_uri": "https://localhost:8080/"
        },
        "id": "8vpjen5Izxiq",
        "outputId": "e51e9ce5-875e-49fd-fddf-ec34a967a2c8"
      },
      "execution_count": null,
      "outputs": [
        {
          "output_type": "stream",
          "name": "stdout",
          "text": [
            "5 11\n",
            "6\n",
            "7\n",
            "8\n",
            "9\n",
            "10\n"
          ]
        }
      ]
    },
    {
      "cell_type": "markdown",
      "source": [
        "Via : Two input | Using For Loop\n"
      ],
      "metadata": {
        "id": "FRFad4Hd4X3i"
      }
    },
    {
      "cell_type": "code",
      "source": [
        "n, k = map(int, input().split())\n",
        "# n = 5 | k = 11\n",
        "for i in range(n+1, k): \n",
        "  # print(*range(n+1, k), sep=' ')\n",
        "  #values = [i for i in range(n+1, k)]\n",
        "  #print(*values)\n",
        "  \n",
        "  print(i, end=' ')"
      ],
      "metadata": {
        "id": "2SyQIa5MLFEt"
      },
      "execution_count": null,
      "outputs": []
    },
    {
      "cell_type": "code",
      "source": [
        "n,k = list(map(int, input().split()))\n",
        "# n = 5 | k = 11\n",
        "for i in range(n+1, k):\n",
        "  print(i)\n",
        "  \n",
        "#"
      ],
      "metadata": {
        "colab": {
          "base_uri": "https://localhost:8080/"
        },
        "id": "BvtOmvTG3bPz",
        "outputId": "a9bcecce-2298-4f91-dc19-646814930cbf"
      },
      "execution_count": null,
      "outputs": [
        {
          "output_type": "stream",
          "name": "stdout",
          "text": [
            "5 11\n",
            "6\n",
            "7\n",
            "8\n",
            "9\n",
            "10\n"
          ]
        }
      ]
    },
    {
      "cell_type": "code",
      "source": [
        "n, k = map(int, input().split())\n",
        "# n = 5 | k = 11\n",
        "for i in range(n+1, k):\n",
        "  print(i, end=\" \")"
      ],
      "metadata": {
        "colab": {
          "base_uri": "https://localhost:8080/"
        },
        "id": "xslRL3fK60Z0",
        "outputId": "e536267c-2263-4ebe-95a5-3abdf5f65864"
      },
      "execution_count": null,
      "outputs": [
        {
          "output_type": "stream",
          "name": "stdout",
          "text": [
            "5 11\n",
            "6 7 8 9 10 "
          ]
        }
      ]
    },
    {
      "cell_type": "markdown",
      "source": [
        "|||||||||||||||||||||||||||||||||||||||||||||||||||||||||||||||||||||||||||||||||||||||||||||||-CODE CLARIFICATION-|||||||||||||||||||||||||||||||||||||||||||||||||||||||||||||||||||||||||||||||||||||||||||||||"
      ],
      "metadata": {
        "id": "odvxcjZhLOQS"
      }
    },
    {
      "cell_type": "code",
      "source": [
        "arr = list(map(int, input().split())) # 1 1 11 121 131 141 98\n",
        "c = []\n",
        "#\n",
        "for i in arr:\n",
        "    if arr.count(i) == 2:\n",
        "      #print(i)\n",
        "      # 1\n",
        "      # 1\n",
        "      if i not in c:\n",
        "          c.append(i)\n",
        "          print(c)\n",
        "\n",
        "if len(c) == 1:\n",
        "   print(*c)\n",
        "#\n"
      ],
      "metadata": {
        "colab": {
          "base_uri": "https://localhost:8080/"
        },
        "id": "pZ2A1SrZ6y6E",
        "outputId": "32c08edc-3caf-4543-82fc-aff3612d07f3"
      },
      "execution_count": null,
      "outputs": [
        {
          "output_type": "stream",
          "name": "stdout",
          "text": [
            "1 1 11 121 131 141 98\n",
            "[1]\n",
            "1\n"
          ]
        }
      ]
    },
    {
      "cell_type": "code",
      "source": [
        "n, k = map(int,input().split()) # n = 5 | k = 15\n",
        "a = list(map(int,input().split())) # 50 65 85 98 35  || # 50/0, 65/1, 85/2, 98/3, 35/4\n",
        "arr = []                  # You are given two numbers ‘n’, ’m’. Next line contains n space separated integers. || input\n",
        "#                          # Print 1 if the difference is greater than ‘m’. ||output\n",
        "for i in range(n-1): # 0 1 2 3\n",
        "    if abs(a[i] - a[i+1]) > k:\n",
        "        arr.append(1)\n",
        "    else:\n",
        "        arr.append(0)\n",
        "print(arr)\n",
        "#\n",
        "#\n",
        "arr1 = a[-1] - a[0]\n",
        "\n",
        "if abs(arr1) > k:\n",
        "    arr.append(1)\n",
        "else:\n",
        "    arr.append(0)\n",
        "#\n",
        "print(*arr)\n",
        "#\n",
        "#OUT PUT-> 0 1 0 1 0\n",
        "#"
      ],
      "metadata": {
        "colab": {
          "base_uri": "https://localhost:8080/",
          "height": 87
        },
        "id": "1uVLLpJxLYbb",
        "outputId": "fbb1c285-1c87-4ec1-c6be-58aa88584393"
      },
      "execution_count": null,
      "outputs": [
        {
          "output_type": "stream",
          "name": "stdout",
          "text": [
            "5 15\n",
            "50 65 85 98 35\n",
            "[0, 1, 0, 1]\n"
          ]
        },
        {
          "output_type": "execute_result",
          "data": {
            "text/plain": [
              "'\\narr1 = a[-1] - a[0]\\n\\nif abs(arr1) > k:\\n    arr.append(1)\\nelse:\\n    arr.append(0)\\n#\\nprint(*arr)\\n#\\n#OUT PUT-> 0 1 0 1 0\\n'"
            ],
            "application/vnd.google.colaboratory.intrinsic+json": {
              "type": "string"
            }
          },
          "metadata": {},
          "execution_count": 41
        }
      ]
    },
    {
      "cell_type": "code",
      "source": [
        "n = int(input()) # Taking input for the size of the array | 5 .\n",
        "#\n",
        "arr = list(map(int, input().split())) # Taking input for the array elements and converting it into a list of integers | 5 25 35 -5 30 .\n",
        "#\n",
        "sum_of_numbers = sum(arr) # Calculating the sum of all the elements in the array\n",
        "print(sum_of_numbers) # Print the Sum of the (arr)\n",
        "#\n",
        "# Checking if the sum of numbers is divisible by 2, 3, and 5\n",
        "if sum_of_numbers % 2 == 0 and sum_of_numbers % 3 == 0 and sum_of_numbers % 5 == 0:\n",
        "#\n",
        "    print(\"1\") # If the array is beautiful, print 1\n",
        "else:\n",
        "    print(\"0\") # If the array is not beautiful, print 0\n",
        "#\n",
        "#\n"
      ],
      "metadata": {
        "colab": {
          "base_uri": "https://localhost:8080/"
        },
        "id": "nPYRBeLAWUUl",
        "outputId": "7f05efbd-35bc-49f9-dda2-649914ba7a0e"
      },
      "execution_count": null,
      "outputs": [
        {
          "output_type": "stream",
          "name": "stdout",
          "text": [
            "5\n",
            "5 25 35 -5 30\n",
            "90\n",
            "1\n"
          ]
        }
      ]
    },
    {
      "cell_type": "code",
      "source": [
        "#\n",
        "#n = int(input()) # 9\n",
        "arr = list(map(int, input().split())) # 1 6 4 56 56 56 6 4 2\n",
        "a = []\n",
        "b = []\n",
        "#\n",
        "for i in arr:\n",
        "    if arr.count(i) == 2:\n",
        "        #print(i)\n",
        "        \n",
        "        if i not in a:\n",
        "            a.append(i)\n",
        "            #print(a)\n",
        "'''\n",
        "#\n",
        "print(*a)\n",
        "#\n",
        "'''\n",
        "print(*a)\n",
        "#\n"
      ],
      "metadata": {
        "colab": {
          "base_uri": "https://localhost:8080/"
        },
        "id": "zRCCwn9raYaX",
        "outputId": "eec090ec-4eb7-49a2-a82f-9aa815370eaa"
      },
      "execution_count": null,
      "outputs": [
        {
          "output_type": "stream",
          "name": "stdout",
          "text": [
            "1 6 4 56 56 56 6 4 2\n",
            "6 4\n"
          ]
        }
      ]
    },
    {
      "cell_type": "markdown",
      "source": [
        "Assume you are a student studying in school.You are given a task to find first negative integer for each and every window of size k.\n",
        "\n",
        "***Input Description:***\n",
        "First line contains an integer n denoting the size of the array. The next line contains n space separated integers forming the array. The last line contains the window size k."
      ],
      "metadata": {
        "id": "Dr69x6xNhq5b"
      }
    },
    {
      "cell_type": "code",
      "source": [
        "n = int(input())  # 7\n",
        "arr = list(map(int, input().split()))  # 1 -2 -3 -4 5 6 -7 |                    | 1/0, -2/1, -3/2, -4/3, 5/4, 6/5, -7/6\n",
        "k = int(input())  # 3\n",
        "#\n",
        "for i in range(n-k+1): # 5 | n=7,k=3 | n-k+1 = 7-3+1 -> \"5\" || \n",
        "    \n",
        "    window = arr[i:i+k] # [1-start:1-stop:1-step]\n",
        "    #print(window)\n",
        "\n",
        "    first_negative = next((num for num in window if num < 0), None)\n",
        "    \n",
        "    if first_negative is not None:\n",
        "\n",
        "        print(first_negative, end=\" \")\n",
        "    else:\n",
        "        print(0) # 0 represents no negative number in the window\n",
        "#\n",
        "\n",
        "#OUTPUT -> ( -2 -2 -3 -4 -7 )\n"
      ],
      "metadata": {
        "colab": {
          "base_uri": "https://localhost:8080/"
        },
        "id": "vZx22beAejaq",
        "outputId": "3f153bed-b23a-456a-b5ef-80e2076377b9"
      },
      "execution_count": null,
      "outputs": [
        {
          "output_type": "stream",
          "name": "stdout",
          "text": [
            "7\n",
            "1 -2 -3 -4 5 6 -7\n",
            "3\n",
            "-2 -2 -3 -4 -7 "
          ]
        }
      ]
    },
    {
      "cell_type": "code",
      "source": [
        "s = \"hello world\" # h/0, e/1, l/2, l/3, o/4, w/5, o/6, r/7, l/8, d/9\n",
        ".\n",
        "print(s[0:5])     # \"hello\"\n",
        "print(s[6:])      # \"world\"\n",
        "print(s[::2])     # \"hlowrd\"\n",
        "print(s[::-1])    # \"dlrow olleh\"\n"
      ],
      "metadata": {
        "colab": {
          "base_uri": "https://localhost:8080/"
        },
        "id": "GM5H-Q0lu8nq",
        "outputId": "02c1e54d-9288-44b1-c72c-c9471a86bed9"
      },
      "execution_count": null,
      "outputs": [
        {
          "output_type": "stream",
          "name": "stdout",
          "text": [
            "hello\n",
            "world\n",
            "hlowrd\n",
            "dlrow olleh\n"
          ]
        }
      ]
    },
    {
      "cell_type": "code",
      "source": [
        "#\n",
        "#aa = int(input())\n",
        "arr = list(map(int, input().split()))\n",
        "ar1 = list(map(int, input().split()))\n",
        "a = []\n",
        "b = []\n",
        "#\n",
        "for i in arr:\n",
        "  a.append(i)\n",
        "#\n",
        "a.sort()\n",
        "#\n",
        "for j in ar1:\n",
        "  #b.sorted(j, reverse=True)\n",
        "  b.append(j)\n",
        "'''\n",
        "numbers = [4, 1, 6, 3, 8, 2]\n",
        "sorted_numbers = sorted(numbers, reverse=True)\n",
        "print(sorted_numbers)\n",
        "'''\n",
        "#\n",
        "##print(a)\n",
        "##print(b)\n",
        "c = a + b\n",
        "print(*c)\n",
        "#\n",
        "\n"
      ],
      "metadata": {
        "colab": {
          "base_uri": "https://localhost:8080/"
        },
        "id": "yTcVSki7yMrz",
        "outputId": "475492f2-e9f6-49c7-ef69-76496bd58f85"
      },
      "execution_count": null,
      "outputs": [
        {
          "output_type": "stream",
          "name": "stdout",
          "text": [
            "23 15 16\n",
            "357 65 10\n",
            "15 16 23 357 65 10\n"
          ]
        }
      ]
    },
    {
      "cell_type": "markdown",
      "source": [
        "|.|\n"
      ],
      "metadata": {
        "id": "T4CKQYntfTE2"
      }
    },
    {
      "cell_type": "code",
      "source": [
        "#\n",
        "#n = int(input()) # 7\n",
        "arr = list(map(int, input().split()))  # 10 7 9 3 2 1 15\n",
        "#\n",
        "for i in range(len(arr)):\n",
        "    next_smallest = -1\n",
        "#\n",
        "    for j in range(i+1, len(arr)):\n",
        "        if arr[j] < arr[i]:\n",
        "            next_smallest = arr[j]\n",
        "            break\n",
        "    print(next_smallest, end=' ')\n",
        "\n",
        "#\n",
        "#print()\n",
        "#\n",
        "#"
      ],
      "metadata": {
        "colab": {
          "base_uri": "https://localhost:8080/"
        },
        "id": "cSk-BbHZfTTq",
        "outputId": "bb7963ba-8a6b-4c5a-d167-4fcb57d4aa86"
      },
      "execution_count": null,
      "outputs": [
        {
          "output_type": "stream",
          "name": "stdout",
          "text": [
            "10 7 9 3 2 1 15\n",
            "7 3 3 2 1 -1 -1 6\n"
          ]
        }
      ]
    },
    {
      "cell_type": "markdown",
      "source": [
        "Sample Input :\n",
        "5 1 7 11 16 19  || \n",
        "Sample Output :\n",
        "19 1 16 7 11"
      ],
      "metadata": {
        "id": "csYm-NScOEeg"
      }
    },
    {
      "cell_type": "code",
      "source": [
        "#\n",
        "a = int(input())  # 5\n",
        "# 1 7 11 16 19 - input value\n",
        "arr = list(map(int, input().split())) # 1 7 11 16 19\n",
        "arr.sort()\n",
        "\n",
        "# Initialize two pointers for the start and end of the array\n",
        "left = 0\n",
        "right = len(arr) - 1\n",
        "\n",
        "result = []\n",
        "\n",
        "while left <= right:\n",
        "    result.append(arr[right])\n",
        "    right -= 1  # right = right - 1\n",
        "    #\n",
        "    result.append(arr[left])\n",
        "    left += 1 # left = left -1\n",
        "\n",
        "print(*result)\n",
        "\n",
        "\n",
        "#\n"
      ],
      "metadata": {
        "colab": {
          "base_uri": "https://localhost:8080/"
        },
        "id": "DLpr7CodN7Yi",
        "outputId": "b64056cb-b61d-4c9f-c871-597a712f83fd"
      },
      "execution_count": null,
      "outputs": [
        {
          "output_type": "stream",
          "name": "stdout",
          "text": [
            "1 7 11 16 19\n",
            "19 1 16 7 11 11\n"
          ]
        }
      ]
    },
    {
      "cell_type": "code",
      "source": [
        "#\n",
        "#n = int(input()) \n",
        "arr = list(map(int, input().split()))  # 10 7 9 3 2 1 15\n",
        "#\n",
        "for i in range(len(arr)):\n",
        "    next_smallest = -1\n",
        "    for j in range(i+1, len(arr)):\n",
        "        if arr[j] < arr[i]:\n",
        "            next_smallest = arr[j]\n",
        "            break\n",
        "    print(next_smallest, end = \" \")\n",
        "#print()"
      ],
      "metadata": {
        "id": "RJNMnxpWOruw"
      },
      "execution_count": null,
      "outputs": []
    },
    {
      "cell_type": "code",
      "source": [
        "#\n",
        "#n = int(input()) # 7\n",
        "arr = list(map(int, input().split()))  # 10 7 9 3 2 1 15\n",
        "g = []\n",
        "#\n",
        "#print(len(arr))\n",
        "\n",
        "for i in range(len(arr)): # 7\n",
        "  #\n",
        "  #print(i) # 0 1 2 3 4 5 6\n",
        "  next_smallest = -1\n",
        "  # 10 7 9 3 2 1 15\n",
        "  for j in range(i+1, len(arr)):  # 0 ,7\n",
        "    if arr[j] < arr[i]:\n",
        "            next_smallest = arr[j]\n",
        "            g.append(next_smallest)\n",
        "            break\n",
        "  print(next_smallest, end = \" \")\n",
        "  #print(*g)\n",
        "#\n",
        "#print()\n",
        "#\n",
        "#"
      ],
      "metadata": {
        "colab": {
          "base_uri": "https://localhost:8080/"
        },
        "id": "beVq4nzG89OJ",
        "outputId": "cd0f3d99-a7d5-4c74-8ea8-2050d44cdc90"
      },
      "execution_count": null,
      "outputs": [
        {
          "output_type": "stream",
          "name": "stdout",
          "text": [
            "10 7 9 3 2 1 15\n",
            "7 3 3 2 1 -1 -1 "
          ]
        }
      ]
    },
    {
      "cell_type": "code",
      "source": [
        "# Prompt user to enter array of values\n",
        "v = input().split()\n",
        "\n",
        "# Convert each value to an integer (assuming values are integers)\n",
        "v = [int(i.strip()) for i in v]\n",
        "print(v)\n",
        "\n",
        "# Sort the array in descending order\n",
        "v.sort(reverse=True)\n",
        "print(v)\n",
        "# Create the alternative array with the desired elements\n",
        "a = []\n",
        "\n",
        "for i in range(len(v)//2):\n",
        "    a.append(v[i])\n",
        "    a.append(v[-(i+1)])\n",
        "\n",
        "# If there are an odd number of elements, append the middle element\n",
        "if len(v) % 2 == 1:\n",
        "    a.append(v[len(v)//2])\n",
        "\n",
        "# Print the alternative array\n",
        "print(a)"
      ],
      "metadata": {
        "colab": {
          "base_uri": "https://localhost:8080/",
          "height": 105
        },
        "id": "NYPqD1RrOrWm",
        "outputId": "544011f7-15ef-4823-996e-24543a1e9935"
      },
      "execution_count": null,
      "outputs": [
        {
          "output_type": "stream",
          "name": "stdout",
          "text": [
            "1 7 11 16 19\n",
            "[1, 7, 11, 16, 19]\n",
            "[19, 16, 11, 7, 1]\n"
          ]
        },
        {
          "output_type": "execute_result",
          "data": {
            "text/plain": [
              "'\\n# Create the alternative array with the desired elements\\na = []\\nfor i in range(len(v)//2):\\n    a.append(v[i])\\n    a.append(v[-(i+1)])\\n\\n# If there are an odd number of elements, append the middle element\\nif len(v) % 2 == 1:\\n    a.append(v[len(v)//2])\\n\\n# Print the alternative array\\nprint(a)\\n'"
            ],
            "application/vnd.google.colaboratory.intrinsic+json": {
              "type": "string"
            }
          },
          "metadata": {},
          "execution_count": 120
        }
      ]
    },
    {
      "cell_type": "code",
      "source": [
        "#A Simple Hello World\n",
        "aa = list(map(int, input().split())) # 3 3\n",
        "arr = list(map(int, input().split())) # 23 15 16\n",
        "ar1 = list(map(int, input().split())) # 357 65 10\n",
        "a = []\n",
        "b = []\n",
        "#\n",
        "for i in arr:\n",
        "  a.append(i)\n",
        "#\n",
        "a.sort()\n",
        "#\n",
        "for j in ar1:\n",
        "  b.append(j)\n",
        "b.sort(reverse=True)\n",
        "#\n",
        "##print(a)\n",
        "##print(b)\n",
        "c = a + b\n",
        "print(*c)\n",
        "#"
      ],
      "metadata": {
        "colab": {
          "base_uri": "https://localhost:8080/"
        },
        "id": "pTwbeEAUlBXW",
        "outputId": "388c431b-995d-401e-b7e8-efd24fcadf87"
      },
      "execution_count": null,
      "outputs": [
        {
          "output_type": "stream",
          "name": "stdout",
          "text": [
            "3 3 \n",
            "23 15 16\n",
            "357 65 10\n",
            "15 16 23 357 65 10\n"
          ]
        }
      ]
    },
    {
      "cell_type": "code",
      "source": [
        "arr = list(map(int, input().split()))  # 10 7 9 3 2 1 15\n",
        "\n",
        "g = []\n",
        "# iterate over each element in the array\n",
        "for i in range(len(arr)):\n",
        "    next_smallest = -1\n",
        "    # iterate over the remaining elements in the array\n",
        "    for j in range(i+1, len(arr)):\n",
        "        if arr[j] < arr[i]:\n",
        "            next_smallest = arr[j]\n",
        "            g.append(next_smallest)\n",
        "            break\n",
        "    # print the next smallest element (or -1 if none exist)\n",
        "    print(next_smallest, \"\", sep=\"\", end=\"\\n\" if i == len(arr)-1 else \" \")\n",
        "print(g)\n"
      ],
      "metadata": {
        "id": "WXdwPJQslBH7",
        "colab": {
          "base_uri": "https://localhost:8080/"
        },
        "outputId": "ccb607dc-c5e5-48de-a1fc-41700635c6f9"
      },
      "execution_count": null,
      "outputs": [
        {
          "output_type": "stream",
          "name": "stdout",
          "text": [
            "10 7 9 3 2 1 15\n",
            "7 3 3 2 1 -1 -1\n",
            "[7, 3, 3, 2, 1]\n"
          ]
        }
      ]
    },
    {
      "cell_type": "markdown",
      "source": [
        "STRING 2 - In XYZ country there is rule that car’s engine no. depends upon car’ number plate. Engine no is sum of all the integers present on car’s Number plate.The issuing authority has hired you in order to provide engine no. to the cars.Your task is to develop an algorithm which takes input as in form of string(Number plate) and gives back"
      ],
      "metadata": {
        "id": "4AZAggtiD3he"
      }
    },
    {
      "cell_type": "code",
      "source": [
        "#\n",
        "n = input(\"Enter the car's number plate: \")  # HR05-AA-2669\n",
        "e = 0\n",
        "\n",
        "for i in n:\n",
        "    if i.isdigit(): # check if the input is a integer \n",
        "        e += int(i) # e = e + int(i)  # if the input is integer, int(i) converts the i to integer.\n",
        "\n",
        "print(e)\n"
      ],
      "metadata": {
        "colab": {
          "base_uri": "https://localhost:8080/"
        },
        "id": "le-dKdBq_tAT",
        "outputId": "9d02aa51-e81c-4a94-aae9-e044d3254d5b"
      },
      "execution_count": null,
      "outputs": [
        {
          "output_type": "stream",
          "name": "stdout",
          "text": [
            "Enter the car's number plate: HR05-AA-2669\n",
            "28\n"
          ]
        }
      ]
    },
    {
      "cell_type": "code",
      "source": [
        "#\n",
        "n = input() # I am john cena cena john\n",
        "m = []\n",
        "#\n",
        "for i in str(n):\n",
        "    if n.count(i) == 1:\n",
        "        if i not in m:\n",
        "            m.append(i)\n",
        "#  \n",
        "print(*m)\n",
        "#"
      ],
      "metadata": {
        "colab": {
          "base_uri": "https://localhost:8080/"
        },
        "id": "ynpNwN3__jke",
        "outputId": "07a56202-b9d5-42b1-98a8-840ea455cfdf"
      },
      "execution_count": null,
      "outputs": [
        {
          "output_type": "stream",
          "name": "stdout",
          "text": [
            "I am john cena cena john\n",
            "I m\n"
          ]
        }
      ]
    },
    {
      "cell_type": "code",
      "source": [
        "51/10\n",
        "\n"
      ],
      "metadata": {
        "colab": {
          "base_uri": "https://localhost:8080/"
        },
        "id": "9PTOg5Yu_Wre",
        "outputId": "6c476217-6d2c-4e4a-e386-7bd98c4bada3"
      },
      "execution_count": null,
      "outputs": [
        {
          "output_type": "execute_result",
          "data": {
            "text/plain": [
              "5.1"
            ]
          },
          "metadata": {},
          "execution_count": 38
        }
      ]
    },
    {
      "cell_type": "code",
      "source": [
        "a = list(map(int,input().split()))\n",
        "b = []\n",
        "#\n",
        "for i in a: # 1331\n",
        "  if i%10 == 0:\n",
        "    print(\"\")\n",
        "  else:\n",
        "    b.append(i)\n",
        "\n",
        "print(b)\n",
        "#if len(b) >=1:\n",
        "  #print(*b)\n",
        "'''\n",
        "for i in arr:\n",
        "    if arr.count(i) == 2:\n",
        "        if i not in c:\n",
        "            c.append(i)\n",
        "print(c)\n",
        "if len(c) >= 1:\n",
        "    print(*c)\n",
        "'''"
      ],
      "metadata": {
        "colab": {
          "base_uri": "https://localhost:8080/",
          "height": 70
        },
        "id": "-GxBp4Gr6lac",
        "outputId": "10327e45-d651-47f0-8149-def78f0d9275"
      },
      "execution_count": null,
      "outputs": [
        {
          "output_type": "stream",
          "name": "stdout",
          "text": [
            "1 3 3 1\n",
            "[1, 3, 3, 1]\n"
          ]
        },
        {
          "output_type": "execute_result",
          "data": {
            "text/plain": [
              "'\\nfor i in arr:\\n    if arr.count(i) == 2:\\n        if i not in c:\\n            c.append(i)\\nprint(c)\\nif len(c) >= 1:\\n    print(*c)\\n'"
            ],
            "application/vnd.google.colaboratory.intrinsic+json": {
              "type": "string"
            }
          },
          "metadata": {},
          "execution_count": 43
        }
      ]
    },
    {
      "cell_type": "code",
      "source": [
        "a = int(input())  # 3\n",
        "b = int(input())  # 2\n",
        "c = list(map(int,input().split()))  # 98 12\n",
        "#\n",
        "d = int(input())  # 6\n",
        "e = list(map(int,input().split()))  # 1 2 3 8 5 9\n",
        "#\n",
        "f = int(input()) # 1\n",
        "g = list(map(int,input().split())) # 11\n",
        "#\n",
        "c.sort()\n",
        "e.sort()\n",
        "g.sort()\n",
        "#\n",
        "print(*c,*e,*g)"
      ],
      "metadata": {
        "id": "MAjAMdwmOpfP",
        "colab": {
          "base_uri": "https://localhost:8080/"
        },
        "outputId": "56be420a-a0f2-4db9-8c54-5b5514a64e61"
      },
      "execution_count": null,
      "outputs": [
        {
          "output_type": "stream",
          "name": "stdout",
          "text": [
            "3\n",
            "2\n",
            "98 12\n",
            "6\n",
            "1 2 3 8 5 9\n",
            "1\n",
            "11\n",
            "12 98 1 2 3 5 8 9 11\n"
          ]
        }
      ]
    },
    {
      "cell_type": "code",
      "source": [],
      "metadata": {
        "id": "YSo8qCOmxmEK"
      },
      "execution_count": null,
      "outputs": []
    },
    {
      "cell_type": "code",
      "source": [],
      "metadata": {
        "id": "j5b9cc2Fxl0m"
      },
      "execution_count": null,
      "outputs": []
    },
    {
      "cell_type": "code",
      "source": [],
      "metadata": {
        "id": "N4IgJTWXLN_6"
      },
      "execution_count": null,
      "outputs": []
    },
    {
      "cell_type": "code",
      "source": [],
      "metadata": {
        "id": "bekuRjtvLN3D"
      },
      "execution_count": null,
      "outputs": []
    },
    {
      "cell_type": "code",
      "source": [],
      "metadata": {
        "id": "mzYhMsXAGcFU"
      },
      "execution_count": null,
      "outputs": []
    }
  ]
}